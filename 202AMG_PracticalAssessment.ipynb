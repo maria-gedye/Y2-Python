{
  "nbformat": 4,
  "nbformat_minor": 0,
  "metadata": {
    "colab": {
      "name": "MG-PracticalAssessment.ipynb",
      "provenance": [],
      "mount_file_id": "1IK7nNWpsV0GBV5SI-G3Z2f1y19PGWip5",
      "authorship_tag": "ABX9TyN9p1X89WJjs/qfo4tvbpqY",
      "include_colab_link": true
    },
    "kernelspec": {
      "name": "python3",
      "display_name": "Python 3"
    },
    "language_info": {
      "name": "python"
    },
    "accelerator": "GPU"
  },
  "cells": [
    {
      "cell_type": "markdown",
      "metadata": {
        "id": "view-in-github",
        "colab_type": "text"
      },
      "source": [
        "<a href=\"https://colab.research.google.com/github/maria-gedye/Y2-Python/blob/master/202AMG_PracticalAssessment.ipynb\" target=\"_parent\"><img src=\"https://colab.research.google.com/assets/colab-badge.svg\" alt=\"Open In Colab\"/></a>"
      ]
    },
    {
      "cell_type": "markdown",
      "source": [
        "##Task 1: Data visualisation and pre-processing\n",
        "\n",
        "\n",
        "---\n",
        "\n",
        "\n",
        "\n",
        "1. How many records are official QV data?\n",
        "2. How many records are RBNZ estimate?"
      ],
      "metadata": {
        "id": "5F-rsltQwOc3"
      }
    },
    {
      "cell_type": "code",
      "execution_count": 127,
      "metadata": {
        "colab": {
          "base_uri": "https://localhost:8080/"
        },
        "id": "-nFUjjdlvugB",
        "outputId": "8e0daefc-1a78-4b14-fa28-b822ea493280"
      },
      "outputs": [
        {
          "output_type": "stream",
          "name": "stdout",
          "text": [
            "+----+-----------------+-----------+\n",
            "|    | Record Type     |   Records |\n",
            "+====+=================+===========+\n",
            "|  0 | Offical QV data |        81 |\n",
            "+----+-----------------+-----------+\n",
            "|  1 | RBNZ estimate   |        88 |\n",
            "+----+-----------------+-----------+\n",
            "|  2 | Total           |       169 |\n",
            "+----+-----------------+-----------+\n"
          ]
        }
      ],
      "source": [
        "from tabulate import tabulate\n",
        "\n",
        "data = [['Offical QV data', 81],\n",
        "        ['RBNZ estimate', 88],\n",
        "        ['Total', 169]]\n",
        "\n",
        "col_names = [\"Record Type\", \"Records\"]\n",
        "\n",
        "print(tabulate(data, headers=col_names, tablefmt=\"grid\", showindex=\"always\"))"
      ]
    },
    {
      "cell_type": "markdown",
      "source": [
        "\n",
        "\n",
        "---\n",
        "\n",
        "\n",
        "3. Read the CSV file as a Pandas data frame"
      ],
      "metadata": {
        "id": "Sz5-s1rz5HBh"
      }
    },
    {
      "cell_type": "code",
      "source": [
        "import pandas as pd\n",
        "\n",
        "#this creates a dataframe from csv file\n",
        "mydata = pd.read_csv('/content/sample_data/housing.csv') \n",
        "\n",
        "#print(mydata.to_string())\n"
      ],
      "metadata": {
        "id": "BbZBasQn5gXS"
      },
      "execution_count": 128,
      "outputs": []
    },
    {
      "cell_type": "markdown",
      "source": [
        "\n",
        "\n",
        "---\n",
        "\n",
        "\n",
        "4. Get statistics of the data using python"
      ],
      "metadata": {
        "id": "ywJ7bSSS9H9X"
      }
    },
    {
      "cell_type": "code",
      "source": [
        "mydata.describe()"
      ],
      "metadata": {
        "colab": {
          "base_uri": "https://localhost:8080/",
          "height": 300
        },
        "id": "0kwHTLc89Kf8",
        "outputId": "8a492d19-c3be-4237-9986-851c45d0d22c"
      },
      "execution_count": 129,
      "outputs": [
        {
          "output_type": "execute_result",
          "data": {
            "text/plain": [
              "       Value of housing $billion  House prices  HPI for houses, index\n",
              "count                 169.000000    125.000000             129.000000\n",
              "mean                  425.053254      7.076000            1337.831783\n",
              "std                   394.275427      7.385987             802.662676\n",
              "min                    25.000000     -9.000000             466.300000\n",
              "25%                   123.000000      2.300000             695.900000\n",
              "50%                   232.000000      6.400000            1299.900000\n",
              "75%                   613.700000     12.300000            1714.900000\n",
              "max                  1763.100000     28.700000            3893.500000"
            ],
            "text/html": [
              "\n",
              "  <div id=\"df-74a8ed75-7c2b-4f64-8a54-4de8f6d3460e\">\n",
              "    <div class=\"colab-df-container\">\n",
              "      <div>\n",
              "<style scoped>\n",
              "    .dataframe tbody tr th:only-of-type {\n",
              "        vertical-align: middle;\n",
              "    }\n",
              "\n",
              "    .dataframe tbody tr th {\n",
              "        vertical-align: top;\n",
              "    }\n",
              "\n",
              "    .dataframe thead th {\n",
              "        text-align: right;\n",
              "    }\n",
              "</style>\n",
              "<table border=\"1\" class=\"dataframe\">\n",
              "  <thead>\n",
              "    <tr style=\"text-align: right;\">\n",
              "      <th></th>\n",
              "      <th>Value of housing $billion</th>\n",
              "      <th>House prices</th>\n",
              "      <th>HPI for houses, index</th>\n",
              "    </tr>\n",
              "  </thead>\n",
              "  <tbody>\n",
              "    <tr>\n",
              "      <th>count</th>\n",
              "      <td>169.000000</td>\n",
              "      <td>125.000000</td>\n",
              "      <td>129.000000</td>\n",
              "    </tr>\n",
              "    <tr>\n",
              "      <th>mean</th>\n",
              "      <td>425.053254</td>\n",
              "      <td>7.076000</td>\n",
              "      <td>1337.831783</td>\n",
              "    </tr>\n",
              "    <tr>\n",
              "      <th>std</th>\n",
              "      <td>394.275427</td>\n",
              "      <td>7.385987</td>\n",
              "      <td>802.662676</td>\n",
              "    </tr>\n",
              "    <tr>\n",
              "      <th>min</th>\n",
              "      <td>25.000000</td>\n",
              "      <td>-9.000000</td>\n",
              "      <td>466.300000</td>\n",
              "    </tr>\n",
              "    <tr>\n",
              "      <th>25%</th>\n",
              "      <td>123.000000</td>\n",
              "      <td>2.300000</td>\n",
              "      <td>695.900000</td>\n",
              "    </tr>\n",
              "    <tr>\n",
              "      <th>50%</th>\n",
              "      <td>232.000000</td>\n",
              "      <td>6.400000</td>\n",
              "      <td>1299.900000</td>\n",
              "    </tr>\n",
              "    <tr>\n",
              "      <th>75%</th>\n",
              "      <td>613.700000</td>\n",
              "      <td>12.300000</td>\n",
              "      <td>1714.900000</td>\n",
              "    </tr>\n",
              "    <tr>\n",
              "      <th>max</th>\n",
              "      <td>1763.100000</td>\n",
              "      <td>28.700000</td>\n",
              "      <td>3893.500000</td>\n",
              "    </tr>\n",
              "  </tbody>\n",
              "</table>\n",
              "</div>\n",
              "      <button class=\"colab-df-convert\" onclick=\"convertToInteractive('df-74a8ed75-7c2b-4f64-8a54-4de8f6d3460e')\"\n",
              "              title=\"Convert this dataframe to an interactive table.\"\n",
              "              style=\"display:none;\">\n",
              "        \n",
              "  <svg xmlns=\"http://www.w3.org/2000/svg\" height=\"24px\"viewBox=\"0 0 24 24\"\n",
              "       width=\"24px\">\n",
              "    <path d=\"M0 0h24v24H0V0z\" fill=\"none\"/>\n",
              "    <path d=\"M18.56 5.44l.94 2.06.94-2.06 2.06-.94-2.06-.94-.94-2.06-.94 2.06-2.06.94zm-11 1L8.5 8.5l.94-2.06 2.06-.94-2.06-.94L8.5 2.5l-.94 2.06-2.06.94zm10 10l.94 2.06.94-2.06 2.06-.94-2.06-.94-.94-2.06-.94 2.06-2.06.94z\"/><path d=\"M17.41 7.96l-1.37-1.37c-.4-.4-.92-.59-1.43-.59-.52 0-1.04.2-1.43.59L10.3 9.45l-7.72 7.72c-.78.78-.78 2.05 0 2.83L4 21.41c.39.39.9.59 1.41.59.51 0 1.02-.2 1.41-.59l7.78-7.78 2.81-2.81c.8-.78.8-2.07 0-2.86zM5.41 20L4 18.59l7.72-7.72 1.47 1.35L5.41 20z\"/>\n",
              "  </svg>\n",
              "      </button>\n",
              "      \n",
              "  <style>\n",
              "    .colab-df-container {\n",
              "      display:flex;\n",
              "      flex-wrap:wrap;\n",
              "      gap: 12px;\n",
              "    }\n",
              "\n",
              "    .colab-df-convert {\n",
              "      background-color: #E8F0FE;\n",
              "      border: none;\n",
              "      border-radius: 50%;\n",
              "      cursor: pointer;\n",
              "      display: none;\n",
              "      fill: #1967D2;\n",
              "      height: 32px;\n",
              "      padding: 0 0 0 0;\n",
              "      width: 32px;\n",
              "    }\n",
              "\n",
              "    .colab-df-convert:hover {\n",
              "      background-color: #E2EBFA;\n",
              "      box-shadow: 0px 1px 2px rgba(60, 64, 67, 0.3), 0px 1px 3px 1px rgba(60, 64, 67, 0.15);\n",
              "      fill: #174EA6;\n",
              "    }\n",
              "\n",
              "    [theme=dark] .colab-df-convert {\n",
              "      background-color: #3B4455;\n",
              "      fill: #D2E3FC;\n",
              "    }\n",
              "\n",
              "    [theme=dark] .colab-df-convert:hover {\n",
              "      background-color: #434B5C;\n",
              "      box-shadow: 0px 1px 3px 1px rgba(0, 0, 0, 0.15);\n",
              "      filter: drop-shadow(0px 1px 2px rgba(0, 0, 0, 0.3));\n",
              "      fill: #FFFFFF;\n",
              "    }\n",
              "  </style>\n",
              "\n",
              "      <script>\n",
              "        const buttonEl =\n",
              "          document.querySelector('#df-74a8ed75-7c2b-4f64-8a54-4de8f6d3460e button.colab-df-convert');\n",
              "        buttonEl.style.display =\n",
              "          google.colab.kernel.accessAllowed ? 'block' : 'none';\n",
              "\n",
              "        async function convertToInteractive(key) {\n",
              "          const element = document.querySelector('#df-74a8ed75-7c2b-4f64-8a54-4de8f6d3460e');\n",
              "          const dataTable =\n",
              "            await google.colab.kernel.invokeFunction('convertToInteractive',\n",
              "                                                     [key], {});\n",
              "          if (!dataTable) return;\n",
              "\n",
              "          const docLinkHtml = 'Like what you see? Visit the ' +\n",
              "            '<a target=\"_blank\" href=https://colab.research.google.com/notebooks/data_table.ipynb>data table notebook</a>'\n",
              "            + ' to learn more about interactive tables.';\n",
              "          element.innerHTML = '';\n",
              "          dataTable['output_type'] = 'display_data';\n",
              "          await google.colab.output.renderOutput(dataTable, element);\n",
              "          const docLink = document.createElement('div');\n",
              "          docLink.innerHTML = docLinkHtml;\n",
              "          element.appendChild(docLink);\n",
              "        }\n",
              "      </script>\n",
              "    </div>\n",
              "  </div>\n",
              "  "
            ]
          },
          "metadata": {},
          "execution_count": 129
        }
      ]
    },
    {
      "cell_type": "markdown",
      "source": [
        "\n",
        "\n",
        "---\n",
        "\n",
        "\n",
        "5. Does the data contain missing values?\n",
        "\n",
        "// MY ANSWER: Yes. Rows 0-4 contain NaN values in the House prices column."
      ],
      "metadata": {
        "id": "2h7H2vyA92PT"
      }
    },
    {
      "cell_type": "code",
      "source": [
        "import numpy as np\n",
        "\n",
        "mydata.isnull()   # this function returns dataframe bool values which are true\n",
        "                  # when the value is NaN\n",
        "\n"
      ],
      "metadata": {
        "colab": {
          "base_uri": "https://localhost:8080/",
          "height": 423
        },
        "id": "bSndM-bO-UE6",
        "outputId": "2e369716-96de-4a1e-ce0f-a08dbdf84b59"
      },
      "execution_count": 130,
      "outputs": [
        {
          "output_type": "execute_result",
          "data": {
            "text/plain": [
              "      Year  Value of housing $billion  House prices  HPI for houses, index\n",
              "0    False                      False          True                   True\n",
              "1    False                      False          True                   True\n",
              "2    False                      False          True                   True\n",
              "3    False                      False          True                   True\n",
              "4    False                      False          True                   True\n",
              "..     ...                        ...           ...                    ...\n",
              "164  False                      False         False                  False\n",
              "165  False                      False         False                  False\n",
              "166  False                      False         False                  False\n",
              "167  False                      False         False                  False\n",
              "168  False                      False         False                  False\n",
              "\n",
              "[169 rows x 4 columns]"
            ],
            "text/html": [
              "\n",
              "  <div id=\"df-e0b52f67-d833-4f6a-9b5f-4a640afb8a62\">\n",
              "    <div class=\"colab-df-container\">\n",
              "      <div>\n",
              "<style scoped>\n",
              "    .dataframe tbody tr th:only-of-type {\n",
              "        vertical-align: middle;\n",
              "    }\n",
              "\n",
              "    .dataframe tbody tr th {\n",
              "        vertical-align: top;\n",
              "    }\n",
              "\n",
              "    .dataframe thead th {\n",
              "        text-align: right;\n",
              "    }\n",
              "</style>\n",
              "<table border=\"1\" class=\"dataframe\">\n",
              "  <thead>\n",
              "    <tr style=\"text-align: right;\">\n",
              "      <th></th>\n",
              "      <th>Year</th>\n",
              "      <th>Value of housing $billion</th>\n",
              "      <th>House prices</th>\n",
              "      <th>HPI for houses, index</th>\n",
              "    </tr>\n",
              "  </thead>\n",
              "  <tbody>\n",
              "    <tr>\n",
              "      <th>0</th>\n",
              "      <td>False</td>\n",
              "      <td>False</td>\n",
              "      <td>True</td>\n",
              "      <td>True</td>\n",
              "    </tr>\n",
              "    <tr>\n",
              "      <th>1</th>\n",
              "      <td>False</td>\n",
              "      <td>False</td>\n",
              "      <td>True</td>\n",
              "      <td>True</td>\n",
              "    </tr>\n",
              "    <tr>\n",
              "      <th>2</th>\n",
              "      <td>False</td>\n",
              "      <td>False</td>\n",
              "      <td>True</td>\n",
              "      <td>True</td>\n",
              "    </tr>\n",
              "    <tr>\n",
              "      <th>3</th>\n",
              "      <td>False</td>\n",
              "      <td>False</td>\n",
              "      <td>True</td>\n",
              "      <td>True</td>\n",
              "    </tr>\n",
              "    <tr>\n",
              "      <th>4</th>\n",
              "      <td>False</td>\n",
              "      <td>False</td>\n",
              "      <td>True</td>\n",
              "      <td>True</td>\n",
              "    </tr>\n",
              "    <tr>\n",
              "      <th>...</th>\n",
              "      <td>...</td>\n",
              "      <td>...</td>\n",
              "      <td>...</td>\n",
              "      <td>...</td>\n",
              "    </tr>\n",
              "    <tr>\n",
              "      <th>164</th>\n",
              "      <td>False</td>\n",
              "      <td>False</td>\n",
              "      <td>False</td>\n",
              "      <td>False</td>\n",
              "    </tr>\n",
              "    <tr>\n",
              "      <th>165</th>\n",
              "      <td>False</td>\n",
              "      <td>False</td>\n",
              "      <td>False</td>\n",
              "      <td>False</td>\n",
              "    </tr>\n",
              "    <tr>\n",
              "      <th>166</th>\n",
              "      <td>False</td>\n",
              "      <td>False</td>\n",
              "      <td>False</td>\n",
              "      <td>False</td>\n",
              "    </tr>\n",
              "    <tr>\n",
              "      <th>167</th>\n",
              "      <td>False</td>\n",
              "      <td>False</td>\n",
              "      <td>False</td>\n",
              "      <td>False</td>\n",
              "    </tr>\n",
              "    <tr>\n",
              "      <th>168</th>\n",
              "      <td>False</td>\n",
              "      <td>False</td>\n",
              "      <td>False</td>\n",
              "      <td>False</td>\n",
              "    </tr>\n",
              "  </tbody>\n",
              "</table>\n",
              "<p>169 rows × 4 columns</p>\n",
              "</div>\n",
              "      <button class=\"colab-df-convert\" onclick=\"convertToInteractive('df-e0b52f67-d833-4f6a-9b5f-4a640afb8a62')\"\n",
              "              title=\"Convert this dataframe to an interactive table.\"\n",
              "              style=\"display:none;\">\n",
              "        \n",
              "  <svg xmlns=\"http://www.w3.org/2000/svg\" height=\"24px\"viewBox=\"0 0 24 24\"\n",
              "       width=\"24px\">\n",
              "    <path d=\"M0 0h24v24H0V0z\" fill=\"none\"/>\n",
              "    <path d=\"M18.56 5.44l.94 2.06.94-2.06 2.06-.94-2.06-.94-.94-2.06-.94 2.06-2.06.94zm-11 1L8.5 8.5l.94-2.06 2.06-.94-2.06-.94L8.5 2.5l-.94 2.06-2.06.94zm10 10l.94 2.06.94-2.06 2.06-.94-2.06-.94-.94-2.06-.94 2.06-2.06.94z\"/><path d=\"M17.41 7.96l-1.37-1.37c-.4-.4-.92-.59-1.43-.59-.52 0-1.04.2-1.43.59L10.3 9.45l-7.72 7.72c-.78.78-.78 2.05 0 2.83L4 21.41c.39.39.9.59 1.41.59.51 0 1.02-.2 1.41-.59l7.78-7.78 2.81-2.81c.8-.78.8-2.07 0-2.86zM5.41 20L4 18.59l7.72-7.72 1.47 1.35L5.41 20z\"/>\n",
              "  </svg>\n",
              "      </button>\n",
              "      \n",
              "  <style>\n",
              "    .colab-df-container {\n",
              "      display:flex;\n",
              "      flex-wrap:wrap;\n",
              "      gap: 12px;\n",
              "    }\n",
              "\n",
              "    .colab-df-convert {\n",
              "      background-color: #E8F0FE;\n",
              "      border: none;\n",
              "      border-radius: 50%;\n",
              "      cursor: pointer;\n",
              "      display: none;\n",
              "      fill: #1967D2;\n",
              "      height: 32px;\n",
              "      padding: 0 0 0 0;\n",
              "      width: 32px;\n",
              "    }\n",
              "\n",
              "    .colab-df-convert:hover {\n",
              "      background-color: #E2EBFA;\n",
              "      box-shadow: 0px 1px 2px rgba(60, 64, 67, 0.3), 0px 1px 3px 1px rgba(60, 64, 67, 0.15);\n",
              "      fill: #174EA6;\n",
              "    }\n",
              "\n",
              "    [theme=dark] .colab-df-convert {\n",
              "      background-color: #3B4455;\n",
              "      fill: #D2E3FC;\n",
              "    }\n",
              "\n",
              "    [theme=dark] .colab-df-convert:hover {\n",
              "      background-color: #434B5C;\n",
              "      box-shadow: 0px 1px 3px 1px rgba(0, 0, 0, 0.15);\n",
              "      filter: drop-shadow(0px 1px 2px rgba(0, 0, 0, 0.3));\n",
              "      fill: #FFFFFF;\n",
              "    }\n",
              "  </style>\n",
              "\n",
              "      <script>\n",
              "        const buttonEl =\n",
              "          document.querySelector('#df-e0b52f67-d833-4f6a-9b5f-4a640afb8a62 button.colab-df-convert');\n",
              "        buttonEl.style.display =\n",
              "          google.colab.kernel.accessAllowed ? 'block' : 'none';\n",
              "\n",
              "        async function convertToInteractive(key) {\n",
              "          const element = document.querySelector('#df-e0b52f67-d833-4f6a-9b5f-4a640afb8a62');\n",
              "          const dataTable =\n",
              "            await google.colab.kernel.invokeFunction('convertToInteractive',\n",
              "                                                     [key], {});\n",
              "          if (!dataTable) return;\n",
              "\n",
              "          const docLinkHtml = 'Like what you see? Visit the ' +\n",
              "            '<a target=\"_blank\" href=https://colab.research.google.com/notebooks/data_table.ipynb>data table notebook</a>'\n",
              "            + ' to learn more about interactive tables.';\n",
              "          element.innerHTML = '';\n",
              "          dataTable['output_type'] = 'display_data';\n",
              "          await google.colab.output.renderOutput(dataTable, element);\n",
              "          const docLink = document.createElement('div');\n",
              "          docLink.innerHTML = docLinkHtml;\n",
              "          element.appendChild(docLink);\n",
              "        }\n",
              "      </script>\n",
              "    </div>\n",
              "  </div>\n",
              "  "
            ]
          },
          "metadata": {},
          "execution_count": 130
        }
      ]
    },
    {
      "cell_type": "markdown",
      "source": [
        "6. Draw the graph of House prices annual change (in percentage) using matplotlib or seaborn using a suitable chart of your choice."
      ],
      "metadata": {
        "id": "GLuZpaz8-TPs"
      }
    },
    {
      "cell_type": "code",
      "source": [
        "import plotly.express as px\n",
        "\n",
        "fig = px.line(mydata, x = 'Year', y = 'House prices', title = 'House Prices Annual Change (%)')\n",
        "fig.show()\n",
        "\n"
      ],
      "metadata": {
        "colab": {
          "base_uri": "https://localhost:8080/",
          "height": 542
        },
        "id": "twm4NYNGB6Nd",
        "outputId": "faea13ae-d30e-4eff-abbe-afabe0b52e8c"
      },
      "execution_count": 131,
      "outputs": [
        {
          "output_type": "display_data",
          "data": {
            "text/html": [
              "<html>\n",
              "<head><meta charset=\"utf-8\" /></head>\n",
              "<body>\n",
              "    <div>            <script src=\"https://cdnjs.cloudflare.com/ajax/libs/mathjax/2.7.5/MathJax.js?config=TeX-AMS-MML_SVG\"></script><script type=\"text/javascript\">if (window.MathJax) {MathJax.Hub.Config({SVG: {font: \"STIX-Web\"}});}</script>                <script type=\"text/javascript\">window.PlotlyConfig = {MathJaxConfig: 'local'};</script>\n",
              "        <script src=\"https://cdn.plot.ly/plotly-2.8.3.min.js\"></script>                <div id=\"27caa1fe-3a9c-418f-93cf-95ced2fb974d\" class=\"plotly-graph-div\" style=\"height:525px; width:100%;\"></div>            <script type=\"text/javascript\">                                    window.PLOTLYENV=window.PLOTLYENV || {};                                    if (document.getElementById(\"27caa1fe-3a9c-418f-93cf-95ced2fb974d\")) {                    Plotly.newPlot(                        \"27caa1fe-3a9c-418f-93cf-95ced2fb974d\",                        [{\"hovertemplate\":\"Year=%{x}<br>House prices=%{y}<extra></extra>\",\"legendgroup\":\"\",\"line\":{\"color\":\"#636efa\",\"dash\":\"solid\"},\"marker\":{\"symbol\":\"circle\"},\"mode\":\"lines\",\"name\":\"\",\"orientation\":\"v\",\"showlegend\":false,\"x\":[\"Dec-79\",\"Mar-80\",\"Jun-80\",\"Sep-80\",\"Dec-80\",\"Mar-81\",\"Jun-81\",\"Sep-81\",\"Dec-81\",\"Mar-82\",\"Jun-82\",\"Sep-82\",\"Dec-82\",\"Mar-83\",\"Jun-83\",\"Sep-83\",\"Dec-83\",\"Mar-84\",\"Jun-84\",\"Sep-84\",\"Dec-84\",\"Mar-85\",\"Jun-85\",\"Sep-85\",\"Dec-85\",\"Mar-86\",\"Jun-86\",\"Sep-86\",\"Dec-86\",\"Mar-87\",\"Jun-87\",\"Sep-87\",\"Dec-87\",\"Mar-88\",\"Jun-88\",\"Sep-88\",\"Dec-88\",\"Mar-89\",\"Jun-89\",\"Sep-89\",\"Dec-89\",\"Mar-90\",\"Jun-90\",\"Sep-90\",\"Dec-90\",\"Mar-91\",\"Jun-91\",\"Sep-91\",\"Dec-91\",\"Mar-92\",\"Jun-92\",\"Sep-92\",\"Dec-92\",\"Mar-93\",\"Jun-93\",\"Sep-93\",\"Dec-93\",\"Mar-94\",\"Jun-94\",\"Sep-94\",\"Dec-94\",\"Mar-95\",\"Jun-95\",\"Sep-95\",\"Dec-95\",\"Mar-96\",\"Jun-96\",\"Sep-96\",\"Dec-96\",\"Mar-97\",\"Jun-97\",\"Sep-97\",\"Dec-97\",\"Mar-98\",\"Jun-98\",\"Sep-98\",\"Dec-98\",\"Mar-99\",\"Jun-99\",\"Sep-99\",\"Dec-99\",\"Mar-00\",\"Jun-00\",\"Sep-00\",\"Dec-00\",\"Mar-01\",\"Jun-01\",\"Sep-01\",\"Dec-01\",\"Mar-02\",\"Jun-02\",\"Sep-02\",\"Dec-02\",\"Mar-03\",\"Jun-03\",\"Sep-03\",\"Dec-03\",\"Mar-04\",\"Jun-04\",\"Sep-04\",\"Dec-04\",\"Mar-05\",\"Jun-05\",\"Sep-05\",\"Dec-05\",\"Mar-06\",\"Jun-06\",\"Sep-06\",\"Dec-06\",\"Mar-07\",\"Jun-07\",\"Sep-07\",\"Dec-07\",\"Mar-08\",\"Jun-08\",\"Sep-08\",\"Dec-08\",\"Mar-09\",\"Jun-09\",\"Sep-09\",\"Dec-09\",\"Mar-10\",\"Jun-10\",\"Sep-10\",\"Dec-10\",\"Mar-11\",\"Jun-11\",\"Sep-11\",\"Dec-11\",\"Mar-12\",\"Jun-12\",\"Sep-12\",\"Dec-12\",\"Mar-13\",\"Jun-13\",\"Sep-13\",\"Dec-13\",\"Mar-14\",\"Jun-14\",\"Sep-14\",\"Dec-14\",\"Mar-15\",\"Jun-15\",\"Sep-15\",\"Dec-15\",\"Mar-16\",\"Jun-16\",\"Sep-16\",\"Dec-16\",\"Mar-17\",\"Jun-17\",\"Sep-17\",\"Dec-17\",\"Mar-18\",\"Jun-18\",\"Sep-18\",\"Dec-18\",\"Mar-19\",\"Jun-19\",\"Sep-19\",\"Dec-19\",\"Mar-20\",\"Jun-20\",\"Sep-20\",\"Dec-20\",\"Mar-21\",\"Jun-21\",\"Sep-21\",\"Dec-21\"],\"xaxis\":\"x\",\"y\":[null,null,null,null,null,null,null,null,null,null,null,null,null,null,null,null,null,null,null,null,null,null,null,null,null,null,null,null,null,null,null,null,null,null,null,null,null,null,null,null,null,null,null,null,2.9,-1.5,-3.8,-2.8,-2.5,-2.0,0.5,1.2,1.7,3.3,2.8,4.1,6.4,12.4,15.2,15.2,14.7,10.5,8.7,8.6,9.3,12.5,12.3,9.2,8.1,6.8,6.2,6.4,4.9,0.2,-2.5,-2.6,-2.3,0.5,3.0,2.7,2.3,0.8,-0.2,-0.8,-1.2,0.0,0.7,2.4,4.4,7.1,9.2,11.7,14.0,15.6,16.8,20.9,24.4,23.1,21.1,15.8,12.4,12.6,13.7,15.0,15.2,12.3,10.2,9.3,8.9,11.3,13.4,11.3,7.6,2.7,-4.5,-6.7,-8.9,-9.0,-3.1,1.1,5.4,6.2,3.2,0.3,-1.6,-1.4,0.1,2.1,2.3,3.1,3.8,4.5,6.4,7.7,8.8,10.0,9.0,7.6,6.4,4.8,7.2,9.4,12.1,15.5,12.6,13.2,15.2,14.1,14.3,12.1,6.7,3.6,4.1,3.6,3.6,3.9,3.3,2.6,2.0,3.1,4.8,7.6,6.8,10.0,16.1,22.7,28.5,28.7,25.2],\"yaxis\":\"y\",\"type\":\"scatter\"}],                        {\"template\":{\"data\":{\"bar\":[{\"error_x\":{\"color\":\"#2a3f5f\"},\"error_y\":{\"color\":\"#2a3f5f\"},\"marker\":{\"line\":{\"color\":\"#E5ECF6\",\"width\":0.5},\"pattern\":{\"fillmode\":\"overlay\",\"size\":10,\"solidity\":0.2}},\"type\":\"bar\"}],\"barpolar\":[{\"marker\":{\"line\":{\"color\":\"#E5ECF6\",\"width\":0.5},\"pattern\":{\"fillmode\":\"overlay\",\"size\":10,\"solidity\":0.2}},\"type\":\"barpolar\"}],\"carpet\":[{\"aaxis\":{\"endlinecolor\":\"#2a3f5f\",\"gridcolor\":\"white\",\"linecolor\":\"white\",\"minorgridcolor\":\"white\",\"startlinecolor\":\"#2a3f5f\"},\"baxis\":{\"endlinecolor\":\"#2a3f5f\",\"gridcolor\":\"white\",\"linecolor\":\"white\",\"minorgridcolor\":\"white\",\"startlinecolor\":\"#2a3f5f\"},\"type\":\"carpet\"}],\"choropleth\":[{\"colorbar\":{\"outlinewidth\":0,\"ticks\":\"\"},\"type\":\"choropleth\"}],\"contour\":[{\"colorbar\":{\"outlinewidth\":0,\"ticks\":\"\"},\"colorscale\":[[0.0,\"#0d0887\"],[0.1111111111111111,\"#46039f\"],[0.2222222222222222,\"#7201a8\"],[0.3333333333333333,\"#9c179e\"],[0.4444444444444444,\"#bd3786\"],[0.5555555555555556,\"#d8576b\"],[0.6666666666666666,\"#ed7953\"],[0.7777777777777778,\"#fb9f3a\"],[0.8888888888888888,\"#fdca26\"],[1.0,\"#f0f921\"]],\"type\":\"contour\"}],\"contourcarpet\":[{\"colorbar\":{\"outlinewidth\":0,\"ticks\":\"\"},\"type\":\"contourcarpet\"}],\"heatmap\":[{\"colorbar\":{\"outlinewidth\":0,\"ticks\":\"\"},\"colorscale\":[[0.0,\"#0d0887\"],[0.1111111111111111,\"#46039f\"],[0.2222222222222222,\"#7201a8\"],[0.3333333333333333,\"#9c179e\"],[0.4444444444444444,\"#bd3786\"],[0.5555555555555556,\"#d8576b\"],[0.6666666666666666,\"#ed7953\"],[0.7777777777777778,\"#fb9f3a\"],[0.8888888888888888,\"#fdca26\"],[1.0,\"#f0f921\"]],\"type\":\"heatmap\"}],\"heatmapgl\":[{\"colorbar\":{\"outlinewidth\":0,\"ticks\":\"\"},\"colorscale\":[[0.0,\"#0d0887\"],[0.1111111111111111,\"#46039f\"],[0.2222222222222222,\"#7201a8\"],[0.3333333333333333,\"#9c179e\"],[0.4444444444444444,\"#bd3786\"],[0.5555555555555556,\"#d8576b\"],[0.6666666666666666,\"#ed7953\"],[0.7777777777777778,\"#fb9f3a\"],[0.8888888888888888,\"#fdca26\"],[1.0,\"#f0f921\"]],\"type\":\"heatmapgl\"}],\"histogram\":[{\"marker\":{\"pattern\":{\"fillmode\":\"overlay\",\"size\":10,\"solidity\":0.2}},\"type\":\"histogram\"}],\"histogram2d\":[{\"colorbar\":{\"outlinewidth\":0,\"ticks\":\"\"},\"colorscale\":[[0.0,\"#0d0887\"],[0.1111111111111111,\"#46039f\"],[0.2222222222222222,\"#7201a8\"],[0.3333333333333333,\"#9c179e\"],[0.4444444444444444,\"#bd3786\"],[0.5555555555555556,\"#d8576b\"],[0.6666666666666666,\"#ed7953\"],[0.7777777777777778,\"#fb9f3a\"],[0.8888888888888888,\"#fdca26\"],[1.0,\"#f0f921\"]],\"type\":\"histogram2d\"}],\"histogram2dcontour\":[{\"colorbar\":{\"outlinewidth\":0,\"ticks\":\"\"},\"colorscale\":[[0.0,\"#0d0887\"],[0.1111111111111111,\"#46039f\"],[0.2222222222222222,\"#7201a8\"],[0.3333333333333333,\"#9c179e\"],[0.4444444444444444,\"#bd3786\"],[0.5555555555555556,\"#d8576b\"],[0.6666666666666666,\"#ed7953\"],[0.7777777777777778,\"#fb9f3a\"],[0.8888888888888888,\"#fdca26\"],[1.0,\"#f0f921\"]],\"type\":\"histogram2dcontour\"}],\"mesh3d\":[{\"colorbar\":{\"outlinewidth\":0,\"ticks\":\"\"},\"type\":\"mesh3d\"}],\"parcoords\":[{\"line\":{\"colorbar\":{\"outlinewidth\":0,\"ticks\":\"\"}},\"type\":\"parcoords\"}],\"pie\":[{\"automargin\":true,\"type\":\"pie\"}],\"scatter\":[{\"marker\":{\"colorbar\":{\"outlinewidth\":0,\"ticks\":\"\"}},\"type\":\"scatter\"}],\"scatter3d\":[{\"line\":{\"colorbar\":{\"outlinewidth\":0,\"ticks\":\"\"}},\"marker\":{\"colorbar\":{\"outlinewidth\":0,\"ticks\":\"\"}},\"type\":\"scatter3d\"}],\"scattercarpet\":[{\"marker\":{\"colorbar\":{\"outlinewidth\":0,\"ticks\":\"\"}},\"type\":\"scattercarpet\"}],\"scattergeo\":[{\"marker\":{\"colorbar\":{\"outlinewidth\":0,\"ticks\":\"\"}},\"type\":\"scattergeo\"}],\"scattergl\":[{\"marker\":{\"colorbar\":{\"outlinewidth\":0,\"ticks\":\"\"}},\"type\":\"scattergl\"}],\"scattermapbox\":[{\"marker\":{\"colorbar\":{\"outlinewidth\":0,\"ticks\":\"\"}},\"type\":\"scattermapbox\"}],\"scatterpolar\":[{\"marker\":{\"colorbar\":{\"outlinewidth\":0,\"ticks\":\"\"}},\"type\":\"scatterpolar\"}],\"scatterpolargl\":[{\"marker\":{\"colorbar\":{\"outlinewidth\":0,\"ticks\":\"\"}},\"type\":\"scatterpolargl\"}],\"scatterternary\":[{\"marker\":{\"colorbar\":{\"outlinewidth\":0,\"ticks\":\"\"}},\"type\":\"scatterternary\"}],\"surface\":[{\"colorbar\":{\"outlinewidth\":0,\"ticks\":\"\"},\"colorscale\":[[0.0,\"#0d0887\"],[0.1111111111111111,\"#46039f\"],[0.2222222222222222,\"#7201a8\"],[0.3333333333333333,\"#9c179e\"],[0.4444444444444444,\"#bd3786\"],[0.5555555555555556,\"#d8576b\"],[0.6666666666666666,\"#ed7953\"],[0.7777777777777778,\"#fb9f3a\"],[0.8888888888888888,\"#fdca26\"],[1.0,\"#f0f921\"]],\"type\":\"surface\"}],\"table\":[{\"cells\":{\"fill\":{\"color\":\"#EBF0F8\"},\"line\":{\"color\":\"white\"}},\"header\":{\"fill\":{\"color\":\"#C8D4E3\"},\"line\":{\"color\":\"white\"}},\"type\":\"table\"}]},\"layout\":{\"annotationdefaults\":{\"arrowcolor\":\"#2a3f5f\",\"arrowhead\":0,\"arrowwidth\":1},\"autotypenumbers\":\"strict\",\"coloraxis\":{\"colorbar\":{\"outlinewidth\":0,\"ticks\":\"\"}},\"colorscale\":{\"diverging\":[[0,\"#8e0152\"],[0.1,\"#c51b7d\"],[0.2,\"#de77ae\"],[0.3,\"#f1b6da\"],[0.4,\"#fde0ef\"],[0.5,\"#f7f7f7\"],[0.6,\"#e6f5d0\"],[0.7,\"#b8e186\"],[0.8,\"#7fbc41\"],[0.9,\"#4d9221\"],[1,\"#276419\"]],\"sequential\":[[0.0,\"#0d0887\"],[0.1111111111111111,\"#46039f\"],[0.2222222222222222,\"#7201a8\"],[0.3333333333333333,\"#9c179e\"],[0.4444444444444444,\"#bd3786\"],[0.5555555555555556,\"#d8576b\"],[0.6666666666666666,\"#ed7953\"],[0.7777777777777778,\"#fb9f3a\"],[0.8888888888888888,\"#fdca26\"],[1.0,\"#f0f921\"]],\"sequentialminus\":[[0.0,\"#0d0887\"],[0.1111111111111111,\"#46039f\"],[0.2222222222222222,\"#7201a8\"],[0.3333333333333333,\"#9c179e\"],[0.4444444444444444,\"#bd3786\"],[0.5555555555555556,\"#d8576b\"],[0.6666666666666666,\"#ed7953\"],[0.7777777777777778,\"#fb9f3a\"],[0.8888888888888888,\"#fdca26\"],[1.0,\"#f0f921\"]]},\"colorway\":[\"#636efa\",\"#EF553B\",\"#00cc96\",\"#ab63fa\",\"#FFA15A\",\"#19d3f3\",\"#FF6692\",\"#B6E880\",\"#FF97FF\",\"#FECB52\"],\"font\":{\"color\":\"#2a3f5f\"},\"geo\":{\"bgcolor\":\"white\",\"lakecolor\":\"white\",\"landcolor\":\"#E5ECF6\",\"showlakes\":true,\"showland\":true,\"subunitcolor\":\"white\"},\"hoverlabel\":{\"align\":\"left\"},\"hovermode\":\"closest\",\"mapbox\":{\"style\":\"light\"},\"paper_bgcolor\":\"white\",\"plot_bgcolor\":\"#E5ECF6\",\"polar\":{\"angularaxis\":{\"gridcolor\":\"white\",\"linecolor\":\"white\",\"ticks\":\"\"},\"bgcolor\":\"#E5ECF6\",\"radialaxis\":{\"gridcolor\":\"white\",\"linecolor\":\"white\",\"ticks\":\"\"}},\"scene\":{\"xaxis\":{\"backgroundcolor\":\"#E5ECF6\",\"gridcolor\":\"white\",\"gridwidth\":2,\"linecolor\":\"white\",\"showbackground\":true,\"ticks\":\"\",\"zerolinecolor\":\"white\"},\"yaxis\":{\"backgroundcolor\":\"#E5ECF6\",\"gridcolor\":\"white\",\"gridwidth\":2,\"linecolor\":\"white\",\"showbackground\":true,\"ticks\":\"\",\"zerolinecolor\":\"white\"},\"zaxis\":{\"backgroundcolor\":\"#E5ECF6\",\"gridcolor\":\"white\",\"gridwidth\":2,\"linecolor\":\"white\",\"showbackground\":true,\"ticks\":\"\",\"zerolinecolor\":\"white\"}},\"shapedefaults\":{\"line\":{\"color\":\"#2a3f5f\"}},\"ternary\":{\"aaxis\":{\"gridcolor\":\"white\",\"linecolor\":\"white\",\"ticks\":\"\"},\"baxis\":{\"gridcolor\":\"white\",\"linecolor\":\"white\",\"ticks\":\"\"},\"bgcolor\":\"#E5ECF6\",\"caxis\":{\"gridcolor\":\"white\",\"linecolor\":\"white\",\"ticks\":\"\"}},\"title\":{\"x\":0.05},\"xaxis\":{\"automargin\":true,\"gridcolor\":\"white\",\"linecolor\":\"white\",\"ticks\":\"\",\"title\":{\"standoff\":15},\"zerolinecolor\":\"white\",\"zerolinewidth\":2},\"yaxis\":{\"automargin\":true,\"gridcolor\":\"white\",\"linecolor\":\"white\",\"ticks\":\"\",\"title\":{\"standoff\":15},\"zerolinecolor\":\"white\",\"zerolinewidth\":2}}},\"xaxis\":{\"anchor\":\"y\",\"domain\":[0.0,1.0],\"title\":{\"text\":\"Year\"}},\"yaxis\":{\"anchor\":\"x\",\"domain\":[0.0,1.0],\"title\":{\"text\":\"House prices\"}},\"legend\":{\"tracegroupgap\":0},\"title\":{\"text\":\"House Prices Annual Change (%)\"}},                        {\"responsive\": true}                    ).then(function(){\n",
              "                            \n",
              "var gd = document.getElementById('27caa1fe-3a9c-418f-93cf-95ced2fb974d');\n",
              "var x = new MutationObserver(function (mutations, observer) {{\n",
              "        var display = window.getComputedStyle(gd).display;\n",
              "        if (!display || display === 'none') {{\n",
              "            console.log([gd, 'removed!']);\n",
              "            Plotly.purge(gd);\n",
              "            observer.disconnect();\n",
              "        }}\n",
              "}});\n",
              "\n",
              "// Listen for the removal of the full notebook cells\n",
              "var notebookContainer = gd.closest('#notebook-container');\n",
              "if (notebookContainer) {{\n",
              "    x.observe(notebookContainer, {childList: true});\n",
              "}}\n",
              "\n",
              "// Listen for the clearing of the current output cell\n",
              "var outputEl = gd.closest('.output');\n",
              "if (outputEl) {{\n",
              "    x.observe(outputEl, {childList: true});\n",
              "}}\n",
              "\n",
              "                        })                };                            </script>        </div>\n",
              "</body>\n",
              "</html>"
            ]
          },
          "metadata": {}
        }
      ]
    },
    {
      "cell_type": "markdown",
      "source": [
        "\n",
        "\n",
        "---\n",
        "\n",
        "\n",
        "7. Combine the previous graph with a graph of HPI for houses\n",
        "8. What can you tell about the trend of the housing price in New Zealand?\n",
        "\n",
        "// MY ANSWER: the trend has steep spikes(sharp increase) during the years of '94,'03, '15 & '21. Also there are big dips(sharp decrease) in price, especially during '91, '98 and '09. Overall, house prices are steadily increasing by looking at this graph."
      ],
      "metadata": {
        "id": "iHh-BSfgB5Xj"
      }
    },
    {
      "cell_type": "code",
      "source": [
        "import plotly.graph_objects as go\n",
        "\n",
        "fig = go.Figure()\n",
        "fig.add_trace(\n",
        "    go.Scatter(x = mydata['Year'], y = mydata['House prices'],\n",
        "               mode = 'lines+markers',\n",
        "               name = '% of House Prices')\n",
        ")\n",
        "fig.add_trace(\n",
        "    go.Scatter(x = mydata['Year'], y = mydata['HPI for houses, index'],\n",
        "               name = 'House Indexes')\n",
        ")\n",
        "\n",
        "fig.update_layout(title = 'House Price Change in NZ 1989-2021')\n",
        "fig.show()"
      ],
      "metadata": {
        "colab": {
          "base_uri": "https://localhost:8080/",
          "height": 542
        },
        "id": "b-KoUdHGYJvH",
        "outputId": "90030adb-db2f-49c5-dc8e-607cc8ff9a56"
      },
      "execution_count": 132,
      "outputs": [
        {
          "output_type": "display_data",
          "data": {
            "text/html": [
              "<html>\n",
              "<head><meta charset=\"utf-8\" /></head>\n",
              "<body>\n",
              "    <div>            <script src=\"https://cdnjs.cloudflare.com/ajax/libs/mathjax/2.7.5/MathJax.js?config=TeX-AMS-MML_SVG\"></script><script type=\"text/javascript\">if (window.MathJax) {MathJax.Hub.Config({SVG: {font: \"STIX-Web\"}});}</script>                <script type=\"text/javascript\">window.PlotlyConfig = {MathJaxConfig: 'local'};</script>\n",
              "        <script src=\"https://cdn.plot.ly/plotly-2.8.3.min.js\"></script>                <div id=\"cf078063-7091-45d9-95be-f45b263159ff\" class=\"plotly-graph-div\" style=\"height:525px; width:100%;\"></div>            <script type=\"text/javascript\">                                    window.PLOTLYENV=window.PLOTLYENV || {};                                    if (document.getElementById(\"cf078063-7091-45d9-95be-f45b263159ff\")) {                    Plotly.newPlot(                        \"cf078063-7091-45d9-95be-f45b263159ff\",                        [{\"mode\":\"lines+markers\",\"name\":\"% of House Prices\",\"x\":[\"Dec-79\",\"Mar-80\",\"Jun-80\",\"Sep-80\",\"Dec-80\",\"Mar-81\",\"Jun-81\",\"Sep-81\",\"Dec-81\",\"Mar-82\",\"Jun-82\",\"Sep-82\",\"Dec-82\",\"Mar-83\",\"Jun-83\",\"Sep-83\",\"Dec-83\",\"Mar-84\",\"Jun-84\",\"Sep-84\",\"Dec-84\",\"Mar-85\",\"Jun-85\",\"Sep-85\",\"Dec-85\",\"Mar-86\",\"Jun-86\",\"Sep-86\",\"Dec-86\",\"Mar-87\",\"Jun-87\",\"Sep-87\",\"Dec-87\",\"Mar-88\",\"Jun-88\",\"Sep-88\",\"Dec-88\",\"Mar-89\",\"Jun-89\",\"Sep-89\",\"Dec-89\",\"Mar-90\",\"Jun-90\",\"Sep-90\",\"Dec-90\",\"Mar-91\",\"Jun-91\",\"Sep-91\",\"Dec-91\",\"Mar-92\",\"Jun-92\",\"Sep-92\",\"Dec-92\",\"Mar-93\",\"Jun-93\",\"Sep-93\",\"Dec-93\",\"Mar-94\",\"Jun-94\",\"Sep-94\",\"Dec-94\",\"Mar-95\",\"Jun-95\",\"Sep-95\",\"Dec-95\",\"Mar-96\",\"Jun-96\",\"Sep-96\",\"Dec-96\",\"Mar-97\",\"Jun-97\",\"Sep-97\",\"Dec-97\",\"Mar-98\",\"Jun-98\",\"Sep-98\",\"Dec-98\",\"Mar-99\",\"Jun-99\",\"Sep-99\",\"Dec-99\",\"Mar-00\",\"Jun-00\",\"Sep-00\",\"Dec-00\",\"Mar-01\",\"Jun-01\",\"Sep-01\",\"Dec-01\",\"Mar-02\",\"Jun-02\",\"Sep-02\",\"Dec-02\",\"Mar-03\",\"Jun-03\",\"Sep-03\",\"Dec-03\",\"Mar-04\",\"Jun-04\",\"Sep-04\",\"Dec-04\",\"Mar-05\",\"Jun-05\",\"Sep-05\",\"Dec-05\",\"Mar-06\",\"Jun-06\",\"Sep-06\",\"Dec-06\",\"Mar-07\",\"Jun-07\",\"Sep-07\",\"Dec-07\",\"Mar-08\",\"Jun-08\",\"Sep-08\",\"Dec-08\",\"Mar-09\",\"Jun-09\",\"Sep-09\",\"Dec-09\",\"Mar-10\",\"Jun-10\",\"Sep-10\",\"Dec-10\",\"Mar-11\",\"Jun-11\",\"Sep-11\",\"Dec-11\",\"Mar-12\",\"Jun-12\",\"Sep-12\",\"Dec-12\",\"Mar-13\",\"Jun-13\",\"Sep-13\",\"Dec-13\",\"Mar-14\",\"Jun-14\",\"Sep-14\",\"Dec-14\",\"Mar-15\",\"Jun-15\",\"Sep-15\",\"Dec-15\",\"Mar-16\",\"Jun-16\",\"Sep-16\",\"Dec-16\",\"Mar-17\",\"Jun-17\",\"Sep-17\",\"Dec-17\",\"Mar-18\",\"Jun-18\",\"Sep-18\",\"Dec-18\",\"Mar-19\",\"Jun-19\",\"Sep-19\",\"Dec-19\",\"Mar-20\",\"Jun-20\",\"Sep-20\",\"Dec-20\",\"Mar-21\",\"Jun-21\",\"Sep-21\",\"Dec-21\"],\"y\":[null,null,null,null,null,null,null,null,null,null,null,null,null,null,null,null,null,null,null,null,null,null,null,null,null,null,null,null,null,null,null,null,null,null,null,null,null,null,null,null,null,null,null,null,2.9,-1.5,-3.8,-2.8,-2.5,-2.0,0.5,1.2,1.7,3.3,2.8,4.1,6.4,12.4,15.2,15.2,14.7,10.5,8.7,8.6,9.3,12.5,12.3,9.2,8.1,6.8,6.2,6.4,4.9,0.2,-2.5,-2.6,-2.3,0.5,3.0,2.7,2.3,0.8,-0.2,-0.8,-1.2,0.0,0.7,2.4,4.4,7.1,9.2,11.7,14.0,15.6,16.8,20.9,24.4,23.1,21.1,15.8,12.4,12.6,13.7,15.0,15.2,12.3,10.2,9.3,8.9,11.3,13.4,11.3,7.6,2.7,-4.5,-6.7,-8.9,-9.0,-3.1,1.1,5.4,6.2,3.2,0.3,-1.6,-1.4,0.1,2.1,2.3,3.1,3.8,4.5,6.4,7.7,8.8,10.0,9.0,7.6,6.4,4.8,7.2,9.4,12.1,15.5,12.6,13.2,15.2,14.1,14.3,12.1,6.7,3.6,4.1,3.6,3.6,3.9,3.3,2.6,2.0,3.1,4.8,7.6,6.8,10.0,16.1,22.7,28.5,28.7,25.2],\"type\":\"scatter\"},{\"name\":\"House Indexes\",\"x\":[\"Dec-79\",\"Mar-80\",\"Jun-80\",\"Sep-80\",\"Dec-80\",\"Mar-81\",\"Jun-81\",\"Sep-81\",\"Dec-81\",\"Mar-82\",\"Jun-82\",\"Sep-82\",\"Dec-82\",\"Mar-83\",\"Jun-83\",\"Sep-83\",\"Dec-83\",\"Mar-84\",\"Jun-84\",\"Sep-84\",\"Dec-84\",\"Mar-85\",\"Jun-85\",\"Sep-85\",\"Dec-85\",\"Mar-86\",\"Jun-86\",\"Sep-86\",\"Dec-86\",\"Mar-87\",\"Jun-87\",\"Sep-87\",\"Dec-87\",\"Mar-88\",\"Jun-88\",\"Sep-88\",\"Dec-88\",\"Mar-89\",\"Jun-89\",\"Sep-89\",\"Dec-89\",\"Mar-90\",\"Jun-90\",\"Sep-90\",\"Dec-90\",\"Mar-91\",\"Jun-91\",\"Sep-91\",\"Dec-91\",\"Mar-92\",\"Jun-92\",\"Sep-92\",\"Dec-92\",\"Mar-93\",\"Jun-93\",\"Sep-93\",\"Dec-93\",\"Mar-94\",\"Jun-94\",\"Sep-94\",\"Dec-94\",\"Mar-95\",\"Jun-95\",\"Sep-95\",\"Dec-95\",\"Mar-96\",\"Jun-96\",\"Sep-96\",\"Dec-96\",\"Mar-97\",\"Jun-97\",\"Sep-97\",\"Dec-97\",\"Mar-98\",\"Jun-98\",\"Sep-98\",\"Dec-98\",\"Mar-99\",\"Jun-99\",\"Sep-99\",\"Dec-99\",\"Mar-00\",\"Jun-00\",\"Sep-00\",\"Dec-00\",\"Mar-01\",\"Jun-01\",\"Sep-01\",\"Dec-01\",\"Mar-02\",\"Jun-02\",\"Sep-02\",\"Dec-02\",\"Mar-03\",\"Jun-03\",\"Sep-03\",\"Dec-03\",\"Mar-04\",\"Jun-04\",\"Sep-04\",\"Dec-04\",\"Mar-05\",\"Jun-05\",\"Sep-05\",\"Dec-05\",\"Mar-06\",\"Jun-06\",\"Sep-06\",\"Dec-06\",\"Mar-07\",\"Jun-07\",\"Sep-07\",\"Dec-07\",\"Mar-08\",\"Jun-08\",\"Sep-08\",\"Dec-08\",\"Mar-09\",\"Jun-09\",\"Sep-09\",\"Dec-09\",\"Mar-10\",\"Jun-10\",\"Sep-10\",\"Dec-10\",\"Mar-11\",\"Jun-11\",\"Sep-11\",\"Dec-11\",\"Mar-12\",\"Jun-12\",\"Sep-12\",\"Dec-12\",\"Mar-13\",\"Jun-13\",\"Sep-13\",\"Dec-13\",\"Mar-14\",\"Jun-14\",\"Sep-14\",\"Dec-14\",\"Mar-15\",\"Jun-15\",\"Sep-15\",\"Dec-15\",\"Mar-16\",\"Jun-16\",\"Sep-16\",\"Dec-16\",\"Mar-17\",\"Jun-17\",\"Sep-17\",\"Dec-17\",\"Mar-18\",\"Jun-18\",\"Sep-18\",\"Dec-18\",\"Mar-19\",\"Jun-19\",\"Sep-19\",\"Dec-19\",\"Mar-20\",\"Jun-20\",\"Sep-20\",\"Dec-20\",\"Mar-21\",\"Jun-21\",\"Sep-21\",\"Dec-21\"],\"y\":[null,null,null,null,null,null,null,null,null,null,null,null,null,null,null,null,null,null,null,null,null,null,null,null,null,null,null,null,null,null,null,null,null,null,null,null,null,null,null,null,466.7,476.6,480.0,482.8,481.7,479.0,469.6,468.5,466.3,468.0,467.4,470.3,477.5,480.7,482.5,490.5,503.0,520.1,536.4,554.4,572.0,579.2,584.6,599.4,621.4,653.1,663.4,662.5,680.5,695.9,701.7,705.6,715.5,708.8,688.2,676.7,689.8,701.1,705.0,705.8,705.2,704.7,697.7,697.1,696.6,701.1,699.5,705.9,717.9,736.8,751.9,773.5,800.6,842.4,871.1,937.6,1000.0,1041.1,1066.1,1090.9,1124.9,1180.0,1214.4,1250.7,1299.9,1324.0,1336.8,1369.9,1418.3,1479.2,1520.0,1525.7,1531.1,1521.3,1452.9,1422.7,1394.8,1382.9,1406.6,1437.7,1467.8,1469.4,1454.7,1445.1,1444.1,1447.1,1452.4,1473.6,1477.5,1493.4,1510.4,1540.6,1572.4,1608.8,1645.0,1697.0,1714.9,1734.1,1749.1,1778.5,1834.8,1891.5,1956.1,2045.2,2059.6,2135.6,2248.8,2333.3,2355.0,2391.1,2394.8,2421.9,2448.9,2480.9,2480.9,2494.8,2517.2,2525.7,2517.8,2565.2,2632.6,2722.1,2695.6,2838.5,3080.9,3379.1,3495.0,3704.3,3893.5],\"type\":\"scatter\"}],                        {\"template\":{\"data\":{\"bar\":[{\"error_x\":{\"color\":\"#2a3f5f\"},\"error_y\":{\"color\":\"#2a3f5f\"},\"marker\":{\"line\":{\"color\":\"#E5ECF6\",\"width\":0.5},\"pattern\":{\"fillmode\":\"overlay\",\"size\":10,\"solidity\":0.2}},\"type\":\"bar\"}],\"barpolar\":[{\"marker\":{\"line\":{\"color\":\"#E5ECF6\",\"width\":0.5},\"pattern\":{\"fillmode\":\"overlay\",\"size\":10,\"solidity\":0.2}},\"type\":\"barpolar\"}],\"carpet\":[{\"aaxis\":{\"endlinecolor\":\"#2a3f5f\",\"gridcolor\":\"white\",\"linecolor\":\"white\",\"minorgridcolor\":\"white\",\"startlinecolor\":\"#2a3f5f\"},\"baxis\":{\"endlinecolor\":\"#2a3f5f\",\"gridcolor\":\"white\",\"linecolor\":\"white\",\"minorgridcolor\":\"white\",\"startlinecolor\":\"#2a3f5f\"},\"type\":\"carpet\"}],\"choropleth\":[{\"colorbar\":{\"outlinewidth\":0,\"ticks\":\"\"},\"type\":\"choropleth\"}],\"contour\":[{\"colorbar\":{\"outlinewidth\":0,\"ticks\":\"\"},\"colorscale\":[[0.0,\"#0d0887\"],[0.1111111111111111,\"#46039f\"],[0.2222222222222222,\"#7201a8\"],[0.3333333333333333,\"#9c179e\"],[0.4444444444444444,\"#bd3786\"],[0.5555555555555556,\"#d8576b\"],[0.6666666666666666,\"#ed7953\"],[0.7777777777777778,\"#fb9f3a\"],[0.8888888888888888,\"#fdca26\"],[1.0,\"#f0f921\"]],\"type\":\"contour\"}],\"contourcarpet\":[{\"colorbar\":{\"outlinewidth\":0,\"ticks\":\"\"},\"type\":\"contourcarpet\"}],\"heatmap\":[{\"colorbar\":{\"outlinewidth\":0,\"ticks\":\"\"},\"colorscale\":[[0.0,\"#0d0887\"],[0.1111111111111111,\"#46039f\"],[0.2222222222222222,\"#7201a8\"],[0.3333333333333333,\"#9c179e\"],[0.4444444444444444,\"#bd3786\"],[0.5555555555555556,\"#d8576b\"],[0.6666666666666666,\"#ed7953\"],[0.7777777777777778,\"#fb9f3a\"],[0.8888888888888888,\"#fdca26\"],[1.0,\"#f0f921\"]],\"type\":\"heatmap\"}],\"heatmapgl\":[{\"colorbar\":{\"outlinewidth\":0,\"ticks\":\"\"},\"colorscale\":[[0.0,\"#0d0887\"],[0.1111111111111111,\"#46039f\"],[0.2222222222222222,\"#7201a8\"],[0.3333333333333333,\"#9c179e\"],[0.4444444444444444,\"#bd3786\"],[0.5555555555555556,\"#d8576b\"],[0.6666666666666666,\"#ed7953\"],[0.7777777777777778,\"#fb9f3a\"],[0.8888888888888888,\"#fdca26\"],[1.0,\"#f0f921\"]],\"type\":\"heatmapgl\"}],\"histogram\":[{\"marker\":{\"pattern\":{\"fillmode\":\"overlay\",\"size\":10,\"solidity\":0.2}},\"type\":\"histogram\"}],\"histogram2d\":[{\"colorbar\":{\"outlinewidth\":0,\"ticks\":\"\"},\"colorscale\":[[0.0,\"#0d0887\"],[0.1111111111111111,\"#46039f\"],[0.2222222222222222,\"#7201a8\"],[0.3333333333333333,\"#9c179e\"],[0.4444444444444444,\"#bd3786\"],[0.5555555555555556,\"#d8576b\"],[0.6666666666666666,\"#ed7953\"],[0.7777777777777778,\"#fb9f3a\"],[0.8888888888888888,\"#fdca26\"],[1.0,\"#f0f921\"]],\"type\":\"histogram2d\"}],\"histogram2dcontour\":[{\"colorbar\":{\"outlinewidth\":0,\"ticks\":\"\"},\"colorscale\":[[0.0,\"#0d0887\"],[0.1111111111111111,\"#46039f\"],[0.2222222222222222,\"#7201a8\"],[0.3333333333333333,\"#9c179e\"],[0.4444444444444444,\"#bd3786\"],[0.5555555555555556,\"#d8576b\"],[0.6666666666666666,\"#ed7953\"],[0.7777777777777778,\"#fb9f3a\"],[0.8888888888888888,\"#fdca26\"],[1.0,\"#f0f921\"]],\"type\":\"histogram2dcontour\"}],\"mesh3d\":[{\"colorbar\":{\"outlinewidth\":0,\"ticks\":\"\"},\"type\":\"mesh3d\"}],\"parcoords\":[{\"line\":{\"colorbar\":{\"outlinewidth\":0,\"ticks\":\"\"}},\"type\":\"parcoords\"}],\"pie\":[{\"automargin\":true,\"type\":\"pie\"}],\"scatter\":[{\"marker\":{\"colorbar\":{\"outlinewidth\":0,\"ticks\":\"\"}},\"type\":\"scatter\"}],\"scatter3d\":[{\"line\":{\"colorbar\":{\"outlinewidth\":0,\"ticks\":\"\"}},\"marker\":{\"colorbar\":{\"outlinewidth\":0,\"ticks\":\"\"}},\"type\":\"scatter3d\"}],\"scattercarpet\":[{\"marker\":{\"colorbar\":{\"outlinewidth\":0,\"ticks\":\"\"}},\"type\":\"scattercarpet\"}],\"scattergeo\":[{\"marker\":{\"colorbar\":{\"outlinewidth\":0,\"ticks\":\"\"}},\"type\":\"scattergeo\"}],\"scattergl\":[{\"marker\":{\"colorbar\":{\"outlinewidth\":0,\"ticks\":\"\"}},\"type\":\"scattergl\"}],\"scattermapbox\":[{\"marker\":{\"colorbar\":{\"outlinewidth\":0,\"ticks\":\"\"}},\"type\":\"scattermapbox\"}],\"scatterpolar\":[{\"marker\":{\"colorbar\":{\"outlinewidth\":0,\"ticks\":\"\"}},\"type\":\"scatterpolar\"}],\"scatterpolargl\":[{\"marker\":{\"colorbar\":{\"outlinewidth\":0,\"ticks\":\"\"}},\"type\":\"scatterpolargl\"}],\"scatterternary\":[{\"marker\":{\"colorbar\":{\"outlinewidth\":0,\"ticks\":\"\"}},\"type\":\"scatterternary\"}],\"surface\":[{\"colorbar\":{\"outlinewidth\":0,\"ticks\":\"\"},\"colorscale\":[[0.0,\"#0d0887\"],[0.1111111111111111,\"#46039f\"],[0.2222222222222222,\"#7201a8\"],[0.3333333333333333,\"#9c179e\"],[0.4444444444444444,\"#bd3786\"],[0.5555555555555556,\"#d8576b\"],[0.6666666666666666,\"#ed7953\"],[0.7777777777777778,\"#fb9f3a\"],[0.8888888888888888,\"#fdca26\"],[1.0,\"#f0f921\"]],\"type\":\"surface\"}],\"table\":[{\"cells\":{\"fill\":{\"color\":\"#EBF0F8\"},\"line\":{\"color\":\"white\"}},\"header\":{\"fill\":{\"color\":\"#C8D4E3\"},\"line\":{\"color\":\"white\"}},\"type\":\"table\"}]},\"layout\":{\"annotationdefaults\":{\"arrowcolor\":\"#2a3f5f\",\"arrowhead\":0,\"arrowwidth\":1},\"autotypenumbers\":\"strict\",\"coloraxis\":{\"colorbar\":{\"outlinewidth\":0,\"ticks\":\"\"}},\"colorscale\":{\"diverging\":[[0,\"#8e0152\"],[0.1,\"#c51b7d\"],[0.2,\"#de77ae\"],[0.3,\"#f1b6da\"],[0.4,\"#fde0ef\"],[0.5,\"#f7f7f7\"],[0.6,\"#e6f5d0\"],[0.7,\"#b8e186\"],[0.8,\"#7fbc41\"],[0.9,\"#4d9221\"],[1,\"#276419\"]],\"sequential\":[[0.0,\"#0d0887\"],[0.1111111111111111,\"#46039f\"],[0.2222222222222222,\"#7201a8\"],[0.3333333333333333,\"#9c179e\"],[0.4444444444444444,\"#bd3786\"],[0.5555555555555556,\"#d8576b\"],[0.6666666666666666,\"#ed7953\"],[0.7777777777777778,\"#fb9f3a\"],[0.8888888888888888,\"#fdca26\"],[1.0,\"#f0f921\"]],\"sequentialminus\":[[0.0,\"#0d0887\"],[0.1111111111111111,\"#46039f\"],[0.2222222222222222,\"#7201a8\"],[0.3333333333333333,\"#9c179e\"],[0.4444444444444444,\"#bd3786\"],[0.5555555555555556,\"#d8576b\"],[0.6666666666666666,\"#ed7953\"],[0.7777777777777778,\"#fb9f3a\"],[0.8888888888888888,\"#fdca26\"],[1.0,\"#f0f921\"]]},\"colorway\":[\"#636efa\",\"#EF553B\",\"#00cc96\",\"#ab63fa\",\"#FFA15A\",\"#19d3f3\",\"#FF6692\",\"#B6E880\",\"#FF97FF\",\"#FECB52\"],\"font\":{\"color\":\"#2a3f5f\"},\"geo\":{\"bgcolor\":\"white\",\"lakecolor\":\"white\",\"landcolor\":\"#E5ECF6\",\"showlakes\":true,\"showland\":true,\"subunitcolor\":\"white\"},\"hoverlabel\":{\"align\":\"left\"},\"hovermode\":\"closest\",\"mapbox\":{\"style\":\"light\"},\"paper_bgcolor\":\"white\",\"plot_bgcolor\":\"#E5ECF6\",\"polar\":{\"angularaxis\":{\"gridcolor\":\"white\",\"linecolor\":\"white\",\"ticks\":\"\"},\"bgcolor\":\"#E5ECF6\",\"radialaxis\":{\"gridcolor\":\"white\",\"linecolor\":\"white\",\"ticks\":\"\"}},\"scene\":{\"xaxis\":{\"backgroundcolor\":\"#E5ECF6\",\"gridcolor\":\"white\",\"gridwidth\":2,\"linecolor\":\"white\",\"showbackground\":true,\"ticks\":\"\",\"zerolinecolor\":\"white\"},\"yaxis\":{\"backgroundcolor\":\"#E5ECF6\",\"gridcolor\":\"white\",\"gridwidth\":2,\"linecolor\":\"white\",\"showbackground\":true,\"ticks\":\"\",\"zerolinecolor\":\"white\"},\"zaxis\":{\"backgroundcolor\":\"#E5ECF6\",\"gridcolor\":\"white\",\"gridwidth\":2,\"linecolor\":\"white\",\"showbackground\":true,\"ticks\":\"\",\"zerolinecolor\":\"white\"}},\"shapedefaults\":{\"line\":{\"color\":\"#2a3f5f\"}},\"ternary\":{\"aaxis\":{\"gridcolor\":\"white\",\"linecolor\":\"white\",\"ticks\":\"\"},\"baxis\":{\"gridcolor\":\"white\",\"linecolor\":\"white\",\"ticks\":\"\"},\"bgcolor\":\"#E5ECF6\",\"caxis\":{\"gridcolor\":\"white\",\"linecolor\":\"white\",\"ticks\":\"\"}},\"title\":{\"x\":0.05},\"xaxis\":{\"automargin\":true,\"gridcolor\":\"white\",\"linecolor\":\"white\",\"ticks\":\"\",\"title\":{\"standoff\":15},\"zerolinecolor\":\"white\",\"zerolinewidth\":2},\"yaxis\":{\"automargin\":true,\"gridcolor\":\"white\",\"linecolor\":\"white\",\"ticks\":\"\",\"title\":{\"standoff\":15},\"zerolinecolor\":\"white\",\"zerolinewidth\":2}}},\"title\":{\"text\":\"House Price Change in NZ 1989-2021\"}},                        {\"responsive\": true}                    ).then(function(){\n",
              "                            \n",
              "var gd = document.getElementById('cf078063-7091-45d9-95be-f45b263159ff');\n",
              "var x = new MutationObserver(function (mutations, observer) {{\n",
              "        var display = window.getComputedStyle(gd).display;\n",
              "        if (!display || display === 'none') {{\n",
              "            console.log([gd, 'removed!']);\n",
              "            Plotly.purge(gd);\n",
              "            observer.disconnect();\n",
              "        }}\n",
              "}});\n",
              "\n",
              "// Listen for the removal of the full notebook cells\n",
              "var notebookContainer = gd.closest('#notebook-container');\n",
              "if (notebookContainer) {{\n",
              "    x.observe(notebookContainer, {childList: true});\n",
              "}}\n",
              "\n",
              "// Listen for the clearing of the current output cell\n",
              "var outputEl = gd.closest('.output');\n",
              "if (outputEl) {{\n",
              "    x.observe(outputEl, {childList: true});\n",
              "}}\n",
              "\n",
              "                        })                };                            </script>        </div>\n",
              "</body>\n",
              "</html>"
            ]
          },
          "metadata": {}
        }
      ]
    },
    {
      "cell_type": "markdown",
      "source": [
        "##Task 2\n",
        " \n",
        "\n",
        "---\n",
        "\n",
        "\n",
        "\n",
        "*   Load the MNIST data, and split it into a training set, a validation set, and a test set (e.g., use the first 40,000 instances for training, the next 10,000 for validation, and the last 10,000 for testing).\n",
        "*   Then train various classifiers of your choice, such as a Decision tree, Random Forest classifier, and an SVM, etc.\n",
        "*   Hyperparameters tuning can be used to find the optimal models of each (if applicable). Alternatively, you can provide some discussion about possible tuning for the current model (no implementation needed)"
      ],
      "metadata": {
        "id": "LRXzWOKz4e26"
      }
    },
    {
      "cell_type": "markdown",
      "source": [
        "### Method 1: Simple Neural Network\n",
        "\n",
        "---\n",
        "\n"
      ],
      "metadata": {
        "id": "A1c2t5UbEEHs"
      }
    },
    {
      "cell_type": "code",
      "source": [
        "import warnings\n",
        "warnings.filterwarnings(\"ignore\", category=DeprecationWarning) "
      ],
      "metadata": {
        "id": "ReiZehD7hvGS"
      },
      "execution_count": 133,
      "outputs": []
    },
    {
      "cell_type": "code",
      "source": [
        "# first install dependencies \n",
        "! [ ! -z \"$COLAB_GPU\" ] && pip install torch scikit-learn==0.20.* skorch"
      ],
      "metadata": {
        "colab": {
          "base_uri": "https://localhost:8080/"
        },
        "id": "fLtl4_OuU3Ll",
        "outputId": "35163b63-6245-4e6c-9aaa-10c7a7c4a947"
      },
      "execution_count": 134,
      "outputs": [
        {
          "output_type": "stream",
          "name": "stdout",
          "text": [
            "Requirement already satisfied: torch in /usr/local/lib/python3.7/dist-packages (1.10.0+cu111)\n",
            "Requirement already satisfied: scikit-learn==0.20.* in /usr/local/lib/python3.7/dist-packages (0.20.4)\n",
            "Requirement already satisfied: skorch in /usr/local/lib/python3.7/dist-packages (0.11.0)\n",
            "Requirement already satisfied: numpy>=1.8.2 in /usr/local/lib/python3.7/dist-packages (from scikit-learn==0.20.*) (1.21.5)\n",
            "Requirement already satisfied: scipy>=0.13.3 in /usr/local/lib/python3.7/dist-packages (from scikit-learn==0.20.*) (1.4.1)\n",
            "Requirement already satisfied: typing-extensions in /usr/local/lib/python3.7/dist-packages (from torch) (4.1.1)\n",
            "Requirement already satisfied: tqdm>=4.14.0 in /usr/local/lib/python3.7/dist-packages (from skorch) (4.64.0)\n",
            "Requirement already satisfied: tabulate>=0.7.7 in /usr/local/lib/python3.7/dist-packages (from skorch) (0.8.9)\n"
          ]
        }
      ]
    },
    {
      "cell_type": "code",
      "source": [
        "# this method is using CNN a type of neural network\n",
        "from sklearn.datasets import fetch_openml\n",
        "from sklearn.model_selection import train_test_split\n",
        "import numpy as np\n",
        "import matplotlib.pyplot as plt\n",
        "\n",
        "# load MNIST data using scikit-learns fetch_openml (very large file)\n",
        "mnist = fetch_openml('mnist_784', cache=False)\n",
        "\n",
        "mnist.data.shape  # 70,000 instances with the vector dimension of 784"
      ],
      "metadata": {
        "colab": {
          "base_uri": "https://localhost:8080/"
        },
        "id": "Vu5f7WRwd_0-",
        "outputId": "3f3be134-6033-4010-e660-4e99a4eb3a0d"
      },
      "execution_count": 135,
      "outputs": [
        {
          "output_type": "execute_result",
          "data": {
            "text/plain": [
              "(70000, 784)"
            ]
          },
          "metadata": {},
          "execution_count": 135
        }
      ]
    },
    {
      "cell_type": "code",
      "source": [
        "#preprocessing data: loading MNIST data returns data and target as uint8 which\n",
        "# need to be converted to float32 and int64 respectively\n",
        "X = mnist.data.astype('float32')\n",
        "y = mnist.target.astype('int64')"
      ],
      "metadata": {
        "id": "mfh_tHewjFuX"
      },
      "execution_count": 136,
      "outputs": []
    },
    {
      "cell_type": "code",
      "source": [
        "#preprocessing data: reduce large weight from pixel values by scaling X down\n",
        "X /= 255.0"
      ],
      "metadata": {
        "id": "X45g9Pp9kZKC"
      },
      "execution_count": 137,
      "outputs": []
    },
    {
      "cell_type": "code",
      "source": [
        "X.min(), X.max()"
      ],
      "metadata": {
        "colab": {
          "base_uri": "https://localhost:8080/"
        },
        "id": "S7H8TMNhk5Lz",
        "outputId": "8d0c8d61-b32f-4f5e-f5c1-415f706f98f1"
      },
      "execution_count": 138,
      "outputs": [
        {
          "output_type": "execute_result",
          "data": {
            "text/plain": [
              "(0.0, 1.0)"
            ]
          },
          "metadata": {},
          "execution_count": 138
        }
      ]
    },
    {
      "cell_type": "code",
      "source": [
        "# split instances into train and test sets\n",
        "X_train, X_test, y_train, y_test = train_test_split(X, y, test_size=0.25, random_state=42)"
      ],
      "metadata": {
        "id": "2Da1Y6c3lAlW"
      },
      "execution_count": 139,
      "outputs": []
    },
    {
      "cell_type": "code",
      "source": [
        "assert(X_train.shape[0] + X_test.shape[0] == mnist.data.shape[0])"
      ],
      "metadata": {
        "id": "VQoXuFYQl7Mh"
      },
      "execution_count": 140,
      "outputs": []
    },
    {
      "cell_type": "code",
      "source": [
        "X_train.shape, y_train.shape"
      ],
      "metadata": {
        "colab": {
          "base_uri": "https://localhost:8080/"
        },
        "id": "UdHExrYCmNuk",
        "outputId": "0c87cc09-ebe5-45aa-f6ab-f63c434472d4"
      },
      "execution_count": 141,
      "outputs": [
        {
          "output_type": "execute_result",
          "data": {
            "text/plain": [
              "((52500, 784), (52500,))"
            ]
          },
          "metadata": {},
          "execution_count": 141
        }
      ]
    },
    {
      "cell_type": "code",
      "source": [
        "# build a neural network with PyTorch\n",
        "import torch \n",
        "from torch import nn \n",
        "import torch.nn.functional as F"
      ],
      "metadata": {
        "id": "uS5q-o71FP6H"
      },
      "execution_count": 142,
      "outputs": []
    },
    {
      "cell_type": "code",
      "source": [
        "device = 'cuda' if torch.cuda.is_available() else 'cpu'"
      ],
      "metadata": {
        "id": "jlL15arCFgjz"
      },
      "execution_count": 143,
      "outputs": []
    },
    {
      "cell_type": "code",
      "source": [
        "mnist_dim = X.shape[1]\n",
        "hidden_dim = int(mnist_dim/8)\n",
        "output_dim = len(np.unique(mnist.target))"
      ],
      "metadata": {
        "id": "5WSbJ2rzHjvr"
      },
      "execution_count": 144,
      "outputs": []
    },
    {
      "cell_type": "code",
      "source": [
        "# input layer, hidden layer and output layer\n",
        "mnist_dim, hidden_dim, output_dim"
      ],
      "metadata": {
        "colab": {
          "base_uri": "https://localhost:8080/"
        },
        "id": "AFAJEJWAIXvK",
        "outputId": "39c22787-c0e3-4115-e356-7737c2d81dbf"
      },
      "execution_count": 145,
      "outputs": [
        {
          "output_type": "execute_result",
          "data": {
            "text/plain": [
              "(784, 98, 10)"
            ]
          },
          "metadata": {},
          "execution_count": 145
        }
      ]
    },
    {
      "cell_type": "code",
      "source": [
        "# create classifier module with PyTorch\n",
        "class ClassifierModule(nn.Module):\n",
        "  def __init__(\n",
        "      self,\n",
        "      input_dim = mnist_dim,\n",
        "      hidden_dim = hidden_dim,\n",
        "      output_dim = output_dim,\n",
        "      dropout = 0.5 \n",
        "  ):\n",
        "    super(ClassifierModule, self).__init__()\n",
        "    self.dropout = nn.Dropout(dropout)\n",
        "    self.hidden = nn.Linear(input_dim, hidden_dim)\n",
        "    self.output = nn.Linear(hidden_dim, output_dim)\n",
        "\n",
        "  def forward(self, X, **kwargs):\n",
        "    X = F.relu(self.hidden(X))\n",
        "    X = self.dropout(X)\n",
        "    X = F.softmax(self.output(X), dim = 1)\n",
        "    return X"
      ],
      "metadata": {
        "id": "jMliXYELJDLa"
      },
      "execution_count": 146,
      "outputs": []
    },
    {
      "cell_type": "code",
      "source": [
        "# now use skorch to use network in scikit-learn setting\n",
        "from skorch import NeuralNetClassifier"
      ],
      "metadata": {
        "id": "Q4x0sKBCKdJY"
      },
      "execution_count": 147,
      "outputs": []
    },
    {
      "cell_type": "code",
      "source": [
        "torch.manual_seed(0)\n",
        "\n",
        "net = NeuralNetClassifier(\n",
        "    ClassifierModule,\n",
        "    max_epochs = 20,\n",
        "    lr = 0.1,\n",
        "    device = device\n",
        ")"
      ],
      "metadata": {
        "id": "AQ_fRPHQKn_I"
      },
      "execution_count": 148,
      "outputs": []
    },
    {
      "cell_type": "code",
      "source": [
        "net.fit(X_train, y_train);"
      ],
      "metadata": {
        "colab": {
          "base_uri": "https://localhost:8080/"
        },
        "id": "EugJ6ApkLFRM",
        "outputId": "928665fd-7a1c-4d03-b5da-fdb77875b6ba"
      },
      "execution_count": 149,
      "outputs": [
        {
          "output_type": "stream",
          "name": "stdout",
          "text": [
            "  epoch    train_loss    valid_acc    valid_loss     dur\n",
            "-------  ------------  -----------  ------------  ------\n",
            "      1        \u001b[36m0.8352\u001b[0m       \u001b[32m0.8786\u001b[0m        \u001b[35m0.4214\u001b[0m  1.2014\n",
            "      2        \u001b[36m0.4340\u001b[0m       \u001b[32m0.9115\u001b[0m        \u001b[35m0.3170\u001b[0m  0.9220\n",
            "      3        \u001b[36m0.3625\u001b[0m       \u001b[32m0.9208\u001b[0m        \u001b[35m0.2769\u001b[0m  1.0045\n",
            "      4        \u001b[36m0.3235\u001b[0m       \u001b[32m0.9287\u001b[0m        \u001b[35m0.2388\u001b[0m  0.9293\n",
            "      5        \u001b[36m0.2925\u001b[0m       \u001b[32m0.9343\u001b[0m        \u001b[35m0.2181\u001b[0m  1.0383\n",
            "      6        \u001b[36m0.2722\u001b[0m       \u001b[32m0.9421\u001b[0m        \u001b[35m0.1959\u001b[0m  1.4860\n",
            "      7        \u001b[36m0.2546\u001b[0m       \u001b[32m0.9441\u001b[0m        \u001b[35m0.1888\u001b[0m  1.6397\n",
            "      8        \u001b[36m0.2439\u001b[0m       \u001b[32m0.9473\u001b[0m        \u001b[35m0.1766\u001b[0m  1.9090\n",
            "      9        \u001b[36m0.2303\u001b[0m       \u001b[32m0.9515\u001b[0m        \u001b[35m0.1646\u001b[0m  1.6195\n",
            "     10        \u001b[36m0.2237\u001b[0m       \u001b[32m0.9545\u001b[0m        \u001b[35m0.1562\u001b[0m  2.1359\n",
            "     11        \u001b[36m0.2162\u001b[0m       0.9545        \u001b[35m0.1510\u001b[0m  2.1123\n",
            "     12        \u001b[36m0.2070\u001b[0m       \u001b[32m0.9550\u001b[0m        \u001b[35m0.1481\u001b[0m  1.9074\n",
            "     13        \u001b[36m0.2020\u001b[0m       \u001b[32m0.9576\u001b[0m        \u001b[35m0.1422\u001b[0m  1.7859\n",
            "     14        \u001b[36m0.1960\u001b[0m       0.9574        \u001b[35m0.1410\u001b[0m  2.2001\n",
            "     15        \u001b[36m0.1898\u001b[0m       \u001b[32m0.9582\u001b[0m        \u001b[35m0.1375\u001b[0m  1.6987\n",
            "     16        \u001b[36m0.1854\u001b[0m       \u001b[32m0.9585\u001b[0m        0.1379  1.2089\n",
            "     17        \u001b[36m0.1804\u001b[0m       \u001b[32m0.9611\u001b[0m        \u001b[35m0.1307\u001b[0m  0.9098\n",
            "     18        \u001b[36m0.1796\u001b[0m       \u001b[32m0.9619\u001b[0m        \u001b[35m0.1286\u001b[0m  0.9134\n",
            "     19        \u001b[36m0.1749\u001b[0m       \u001b[32m0.9622\u001b[0m        \u001b[35m0.1242\u001b[0m  0.8935\n",
            "     20        \u001b[36m0.1702\u001b[0m       \u001b[32m0.9632\u001b[0m        \u001b[35m0.1214\u001b[0m  0.9029\n"
          ]
        }
      ]
    },
    {
      "cell_type": "code",
      "source": [
        "# prediction\n",
        "from sklearn.metrics import accuracy_score"
      ],
      "metadata": {
        "id": "KdeB579OEtSn"
      },
      "execution_count": 150,
      "outputs": []
    },
    {
      "cell_type": "code",
      "source": [
        "y_pred = net.predict(X_test)"
      ],
      "metadata": {
        "id": "9J1Id_7zE6kP"
      },
      "execution_count": 151,
      "outputs": []
    },
    {
      "cell_type": "code",
      "source": [
        "accuracy_score(y_test, y_pred)"
      ],
      "metadata": {
        "colab": {
          "base_uri": "https://localhost:8080/"
        },
        "id": "kAhet5ARLbcT",
        "outputId": "4cdc303f-8f68-4e94-ee99-f0aa490143db"
      },
      "execution_count": 152,
      "outputs": [
        {
          "output_type": "execute_result",
          "data": {
            "text/plain": [
              "0.9623428571428572"
            ]
          },
          "metadata": {},
          "execution_count": 152
        }
      ]
    },
    {
      "cell_type": "code",
      "source": [
        "# reshape X to take a 4 dimensional tensor as input (batch size, number of channel, height, width)\n",
        "XCnn = X.reshape(-1, 1, 28, 28)"
      ],
      "metadata": {
        "id": "vv2PcEFkOr2V"
      },
      "execution_count": 153,
      "outputs": []
    },
    {
      "cell_type": "code",
      "source": [
        "XCnn.shape"
      ],
      "metadata": {
        "colab": {
          "base_uri": "https://localhost:8080/"
        },
        "id": "4TefkQPoPFYr",
        "outputId": "d27dfc5b-9a72-4020-c53b-d96069868b33"
      },
      "execution_count": 154,
      "outputs": [
        {
          "output_type": "execute_result",
          "data": {
            "text/plain": [
              "(70000, 1, 28, 28)"
            ]
          },
          "metadata": {},
          "execution_count": 154
        }
      ]
    },
    {
      "cell_type": "code",
      "source": [
        "XCnn_train, XCnn_test, y_train, y_test = train_test_split(XCnn, y, test_size = 0.25, random_state = 42)"
      ],
      "metadata": {
        "id": "YmZW1W5HPg_u"
      },
      "execution_count": 155,
      "outputs": []
    },
    {
      "cell_type": "code",
      "source": [
        "XCnn_train.shape, y_train.shape"
      ],
      "metadata": {
        "colab": {
          "base_uri": "https://localhost:8080/"
        },
        "id": "402v-iDsPKTg",
        "outputId": "c929dee7-73d0-4fc0-fd7a-cfe6f506b2dc"
      },
      "execution_count": 156,
      "outputs": [
        {
          "output_type": "execute_result",
          "data": {
            "text/plain": [
              "((52500, 1, 28, 28), (52500,))"
            ]
          },
          "metadata": {},
          "execution_count": 156
        }
      ]
    },
    {
      "cell_type": "code",
      "source": [
        "#define Convolutional Neural Network (CNN) class using torch\n",
        "class Cnn(nn.Module):\n",
        "  def __init__(self, dropout = 0.5):\n",
        "    super(Cnn, self).__init__()\n",
        "    self.conv1 = nn.Conv2d(1, 32, kernel_size = 3)\n",
        "    self.conv2 = nn.Conv2d(32, 64, kernel_size = 3)\n",
        "    self.conv2_drop = nn.Dropout2d(p = dropout)\n",
        "    self.fc1 = nn.Linear(1600, 100)\n",
        "    self.fc2 = nn.Linear(100, 10)\n",
        "    self.fc1_drop = nn.Dropout(p = dropout)\n",
        "\n",
        "  def forward(self, x):\n",
        "    x = torch.relu(F.max_pool2d(self.conv1(x), 2))\n",
        "    x = torch.relu(F.max_pool2d(self.conv2_drop(self.conv2(x)), 2))\n",
        "\n",
        "    x = x.view(-1, x.size(1) * x.size(2) * x.size(3))\n",
        "    x = torch.relu(self.fc1_drop(self.fc1(x)))\n",
        "    x = torch.softmax(self.fc2(x), dim = 1)\n",
        "    return x"
      ],
      "metadata": {
        "id": "F645GJ-hUkat"
      },
      "execution_count": 157,
      "outputs": []
    },
    {
      "cell_type": "code",
      "source": [
        "torch.manual_seed(0)\n",
        "\n",
        "cnn = NeuralNetClassifier(\n",
        "    Cnn,\n",
        "    max_epochs = 10,\n",
        "    lr = 0.002,\n",
        "    optimizer = torch.optim.Adam,\n",
        "    device = device\n",
        ")"
      ],
      "metadata": {
        "id": "m9QibQuBW-nh"
      },
      "execution_count": 158,
      "outputs": []
    },
    {
      "cell_type": "code",
      "source": [
        "cnn.fit(XCnn_train, y_train);"
      ],
      "metadata": {
        "colab": {
          "base_uri": "https://localhost:8080/"
        },
        "id": "zc6Y_-H-XVWR",
        "outputId": "dde85393-0def-476a-88ba-0ae7252ea320"
      },
      "execution_count": 159,
      "outputs": [
        {
          "output_type": "stream",
          "name": "stdout",
          "text": [
            "  epoch    train_loss    valid_acc    valid_loss     dur\n",
            "-------  ------------  -----------  ------------  ------\n",
            "      1        \u001b[36m0.4152\u001b[0m       \u001b[32m0.9729\u001b[0m        \u001b[35m0.0880\u001b[0m  1.9008\n",
            "      2        \u001b[36m0.1565\u001b[0m       \u001b[32m0.9800\u001b[0m        \u001b[35m0.0632\u001b[0m  1.7807\n",
            "      3        \u001b[36m0.1272\u001b[0m       \u001b[32m0.9824\u001b[0m        \u001b[35m0.0568\u001b[0m  1.7602\n",
            "      4        \u001b[36m0.1154\u001b[0m       \u001b[32m0.9838\u001b[0m        \u001b[35m0.0524\u001b[0m  1.7683\n",
            "      5        \u001b[36m0.0981\u001b[0m       \u001b[32m0.9857\u001b[0m        \u001b[35m0.0456\u001b[0m  1.7692\n",
            "      6        \u001b[36m0.0883\u001b[0m       \u001b[32m0.9865\u001b[0m        0.0495  1.7763\n",
            "      7        \u001b[36m0.0842\u001b[0m       \u001b[32m0.9866\u001b[0m        \u001b[35m0.0423\u001b[0m  1.7500\n",
            "      8        \u001b[36m0.0809\u001b[0m       \u001b[32m0.9884\u001b[0m        \u001b[35m0.0380\u001b[0m  1.7738\n",
            "      9        \u001b[36m0.0775\u001b[0m       0.9881        \u001b[35m0.0378\u001b[0m  1.7650\n",
            "     10        \u001b[36m0.0752\u001b[0m       0.9866        0.0408  1.7763\n"
          ]
        }
      ]
    },
    {
      "cell_type": "code",
      "source": [
        "y_pred_cnn = cnn.predict(XCnn_test)"
      ],
      "metadata": {
        "id": "m6XYoSctYih3"
      },
      "execution_count": 160,
      "outputs": []
    },
    {
      "cell_type": "code",
      "source": [
        "accuracy_score(y_test, y_pred_cnn)"
      ],
      "metadata": {
        "colab": {
          "base_uri": "https://localhost:8080/"
        },
        "id": "I2_WApx2YoBX",
        "outputId": "07db2744-e064-4c0e-802f-abc6b46ba2f2"
      },
      "execution_count": 161,
      "outputs": [
        {
          "output_type": "execute_result",
          "data": {
            "text/plain": [
              "0.9872571428571428"
            ]
          },
          "metadata": {},
          "execution_count": 161
        }
      ]
    },
    {
      "cell_type": "markdown",
      "source": [
        "### Method 2: Decision Tree\n",
        "\n",
        "---\n",
        "\n"
      ],
      "metadata": {
        "id": "WsLmjjzVZLTr"
      }
    },
    {
      "cell_type": "code",
      "source": [
        "import numpy as np\n",
        "import pandas as pd\n",
        "import matplotlib.pyplot as plt\n",
        "\n",
        "# loading MNIST dataset\n",
        "df = pd.read_csv(r\"/content/sample_data/mnist_train_small.csv\")\n",
        "df.head()"
      ],
      "metadata": {
        "colab": {
          "base_uri": "https://localhost:8080/",
          "height": 299
        },
        "id": "Rzo9_yOMZT4r",
        "outputId": "626d1dd5-578e-48eb-fe84-6a5e992bb03f"
      },
      "execution_count": 162,
      "outputs": [
        {
          "output_type": "execute_result",
          "data": {
            "text/plain": [
              "   6  0  0.1  0.2  0.3  0.4  0.5  0.6  0.7  0.8  ...  0.581  0.582  0.583  \\\n",
              "0  5  0    0    0    0    0    0    0    0    0  ...      0      0      0   \n",
              "1  7  0    0    0    0    0    0    0    0    0  ...      0      0      0   \n",
              "2  9  0    0    0    0    0    0    0    0    0  ...      0      0      0   \n",
              "3  5  0    0    0    0    0    0    0    0    0  ...      0      0      0   \n",
              "4  2  0    0    0    0    0    0    0    0    0  ...      0      0      0   \n",
              "\n",
              "   0.584  0.585  0.586  0.587  0.588  0.589  0.590  \n",
              "0      0      0      0      0      0      0      0  \n",
              "1      0      0      0      0      0      0      0  \n",
              "2      0      0      0      0      0      0      0  \n",
              "3      0      0      0      0      0      0      0  \n",
              "4      0      0      0      0      0      0      0  \n",
              "\n",
              "[5 rows x 785 columns]"
            ],
            "text/html": [
              "\n",
              "  <div id=\"df-8f969d2f-69d0-4918-9f52-232ac3d3697a\">\n",
              "    <div class=\"colab-df-container\">\n",
              "      <div>\n",
              "<style scoped>\n",
              "    .dataframe tbody tr th:only-of-type {\n",
              "        vertical-align: middle;\n",
              "    }\n",
              "\n",
              "    .dataframe tbody tr th {\n",
              "        vertical-align: top;\n",
              "    }\n",
              "\n",
              "    .dataframe thead th {\n",
              "        text-align: right;\n",
              "    }\n",
              "</style>\n",
              "<table border=\"1\" class=\"dataframe\">\n",
              "  <thead>\n",
              "    <tr style=\"text-align: right;\">\n",
              "      <th></th>\n",
              "      <th>6</th>\n",
              "      <th>0</th>\n",
              "      <th>0.1</th>\n",
              "      <th>0.2</th>\n",
              "      <th>0.3</th>\n",
              "      <th>0.4</th>\n",
              "      <th>0.5</th>\n",
              "      <th>0.6</th>\n",
              "      <th>0.7</th>\n",
              "      <th>0.8</th>\n",
              "      <th>...</th>\n",
              "      <th>0.581</th>\n",
              "      <th>0.582</th>\n",
              "      <th>0.583</th>\n",
              "      <th>0.584</th>\n",
              "      <th>0.585</th>\n",
              "      <th>0.586</th>\n",
              "      <th>0.587</th>\n",
              "      <th>0.588</th>\n",
              "      <th>0.589</th>\n",
              "      <th>0.590</th>\n",
              "    </tr>\n",
              "  </thead>\n",
              "  <tbody>\n",
              "    <tr>\n",
              "      <th>0</th>\n",
              "      <td>5</td>\n",
              "      <td>0</td>\n",
              "      <td>0</td>\n",
              "      <td>0</td>\n",
              "      <td>0</td>\n",
              "      <td>0</td>\n",
              "      <td>0</td>\n",
              "      <td>0</td>\n",
              "      <td>0</td>\n",
              "      <td>0</td>\n",
              "      <td>...</td>\n",
              "      <td>0</td>\n",
              "      <td>0</td>\n",
              "      <td>0</td>\n",
              "      <td>0</td>\n",
              "      <td>0</td>\n",
              "      <td>0</td>\n",
              "      <td>0</td>\n",
              "      <td>0</td>\n",
              "      <td>0</td>\n",
              "      <td>0</td>\n",
              "    </tr>\n",
              "    <tr>\n",
              "      <th>1</th>\n",
              "      <td>7</td>\n",
              "      <td>0</td>\n",
              "      <td>0</td>\n",
              "      <td>0</td>\n",
              "      <td>0</td>\n",
              "      <td>0</td>\n",
              "      <td>0</td>\n",
              "      <td>0</td>\n",
              "      <td>0</td>\n",
              "      <td>0</td>\n",
              "      <td>...</td>\n",
              "      <td>0</td>\n",
              "      <td>0</td>\n",
              "      <td>0</td>\n",
              "      <td>0</td>\n",
              "      <td>0</td>\n",
              "      <td>0</td>\n",
              "      <td>0</td>\n",
              "      <td>0</td>\n",
              "      <td>0</td>\n",
              "      <td>0</td>\n",
              "    </tr>\n",
              "    <tr>\n",
              "      <th>2</th>\n",
              "      <td>9</td>\n",
              "      <td>0</td>\n",
              "      <td>0</td>\n",
              "      <td>0</td>\n",
              "      <td>0</td>\n",
              "      <td>0</td>\n",
              "      <td>0</td>\n",
              "      <td>0</td>\n",
              "      <td>0</td>\n",
              "      <td>0</td>\n",
              "      <td>...</td>\n",
              "      <td>0</td>\n",
              "      <td>0</td>\n",
              "      <td>0</td>\n",
              "      <td>0</td>\n",
              "      <td>0</td>\n",
              "      <td>0</td>\n",
              "      <td>0</td>\n",
              "      <td>0</td>\n",
              "      <td>0</td>\n",
              "      <td>0</td>\n",
              "    </tr>\n",
              "    <tr>\n",
              "      <th>3</th>\n",
              "      <td>5</td>\n",
              "      <td>0</td>\n",
              "      <td>0</td>\n",
              "      <td>0</td>\n",
              "      <td>0</td>\n",
              "      <td>0</td>\n",
              "      <td>0</td>\n",
              "      <td>0</td>\n",
              "      <td>0</td>\n",
              "      <td>0</td>\n",
              "      <td>...</td>\n",
              "      <td>0</td>\n",
              "      <td>0</td>\n",
              "      <td>0</td>\n",
              "      <td>0</td>\n",
              "      <td>0</td>\n",
              "      <td>0</td>\n",
              "      <td>0</td>\n",
              "      <td>0</td>\n",
              "      <td>0</td>\n",
              "      <td>0</td>\n",
              "    </tr>\n",
              "    <tr>\n",
              "      <th>4</th>\n",
              "      <td>2</td>\n",
              "      <td>0</td>\n",
              "      <td>0</td>\n",
              "      <td>0</td>\n",
              "      <td>0</td>\n",
              "      <td>0</td>\n",
              "      <td>0</td>\n",
              "      <td>0</td>\n",
              "      <td>0</td>\n",
              "      <td>0</td>\n",
              "      <td>...</td>\n",
              "      <td>0</td>\n",
              "      <td>0</td>\n",
              "      <td>0</td>\n",
              "      <td>0</td>\n",
              "      <td>0</td>\n",
              "      <td>0</td>\n",
              "      <td>0</td>\n",
              "      <td>0</td>\n",
              "      <td>0</td>\n",
              "      <td>0</td>\n",
              "    </tr>\n",
              "  </tbody>\n",
              "</table>\n",
              "<p>5 rows × 785 columns</p>\n",
              "</div>\n",
              "      <button class=\"colab-df-convert\" onclick=\"convertToInteractive('df-8f969d2f-69d0-4918-9f52-232ac3d3697a')\"\n",
              "              title=\"Convert this dataframe to an interactive table.\"\n",
              "              style=\"display:none;\">\n",
              "        \n",
              "  <svg xmlns=\"http://www.w3.org/2000/svg\" height=\"24px\"viewBox=\"0 0 24 24\"\n",
              "       width=\"24px\">\n",
              "    <path d=\"M0 0h24v24H0V0z\" fill=\"none\"/>\n",
              "    <path d=\"M18.56 5.44l.94 2.06.94-2.06 2.06-.94-2.06-.94-.94-2.06-.94 2.06-2.06.94zm-11 1L8.5 8.5l.94-2.06 2.06-.94-2.06-.94L8.5 2.5l-.94 2.06-2.06.94zm10 10l.94 2.06.94-2.06 2.06-.94-2.06-.94-.94-2.06-.94 2.06-2.06.94z\"/><path d=\"M17.41 7.96l-1.37-1.37c-.4-.4-.92-.59-1.43-.59-.52 0-1.04.2-1.43.59L10.3 9.45l-7.72 7.72c-.78.78-.78 2.05 0 2.83L4 21.41c.39.39.9.59 1.41.59.51 0 1.02-.2 1.41-.59l7.78-7.78 2.81-2.81c.8-.78.8-2.07 0-2.86zM5.41 20L4 18.59l7.72-7.72 1.47 1.35L5.41 20z\"/>\n",
              "  </svg>\n",
              "      </button>\n",
              "      \n",
              "  <style>\n",
              "    .colab-df-container {\n",
              "      display:flex;\n",
              "      flex-wrap:wrap;\n",
              "      gap: 12px;\n",
              "    }\n",
              "\n",
              "    .colab-df-convert {\n",
              "      background-color: #E8F0FE;\n",
              "      border: none;\n",
              "      border-radius: 50%;\n",
              "      cursor: pointer;\n",
              "      display: none;\n",
              "      fill: #1967D2;\n",
              "      height: 32px;\n",
              "      padding: 0 0 0 0;\n",
              "      width: 32px;\n",
              "    }\n",
              "\n",
              "    .colab-df-convert:hover {\n",
              "      background-color: #E2EBFA;\n",
              "      box-shadow: 0px 1px 2px rgba(60, 64, 67, 0.3), 0px 1px 3px 1px rgba(60, 64, 67, 0.15);\n",
              "      fill: #174EA6;\n",
              "    }\n",
              "\n",
              "    [theme=dark] .colab-df-convert {\n",
              "      background-color: #3B4455;\n",
              "      fill: #D2E3FC;\n",
              "    }\n",
              "\n",
              "    [theme=dark] .colab-df-convert:hover {\n",
              "      background-color: #434B5C;\n",
              "      box-shadow: 0px 1px 3px 1px rgba(0, 0, 0, 0.15);\n",
              "      filter: drop-shadow(0px 1px 2px rgba(0, 0, 0, 0.3));\n",
              "      fill: #FFFFFF;\n",
              "    }\n",
              "  </style>\n",
              "\n",
              "      <script>\n",
              "        const buttonEl =\n",
              "          document.querySelector('#df-8f969d2f-69d0-4918-9f52-232ac3d3697a button.colab-df-convert');\n",
              "        buttonEl.style.display =\n",
              "          google.colab.kernel.accessAllowed ? 'block' : 'none';\n",
              "\n",
              "        async function convertToInteractive(key) {\n",
              "          const element = document.querySelector('#df-8f969d2f-69d0-4918-9f52-232ac3d3697a');\n",
              "          const dataTable =\n",
              "            await google.colab.kernel.invokeFunction('convertToInteractive',\n",
              "                                                     [key], {});\n",
              "          if (!dataTable) return;\n",
              "\n",
              "          const docLinkHtml = 'Like what you see? Visit the ' +\n",
              "            '<a target=\"_blank\" href=https://colab.research.google.com/notebooks/data_table.ipynb>data table notebook</a>'\n",
              "            + ' to learn more about interactive tables.';\n",
              "          element.innerHTML = '';\n",
              "          dataTable['output_type'] = 'display_data';\n",
              "          await google.colab.output.renderOutput(dataTable, element);\n",
              "          const docLink = document.createElement('div');\n",
              "          docLink.innerHTML = docLinkHtml;\n",
              "          element.appendChild(docLink);\n",
              "        }\n",
              "      </script>\n",
              "    </div>\n",
              "  </div>\n",
              "  "
            ]
          },
          "metadata": {},
          "execution_count": 162
        }
      ]
    },
    {
      "cell_type": "code",
      "source": [
        "# split into training and test sets\n",
        "X = df.iloc[:, 1:]\n",
        "y = df.iloc[:, 0]\n",
        "\n",
        "from sklearn.model_selection import train_test_split\n",
        "\n",
        "X_train, X_test, y_train, y_test = train_test_split(X, y, test_size = 0.25, random_state = 7)\n"
      ],
      "metadata": {
        "id": "esNgZ_QKaVlQ"
      },
      "execution_count": 163,
      "outputs": []
    },
    {
      "cell_type": "code",
      "source": [
        "# call decision tree and fit data\n",
        "from sklearn.tree import DecisionTreeClassifier\n",
        "\n",
        "dtree = DecisionTreeClassifier()\n",
        "dtree.fit(X_train, y_train)\n",
        "\n"
      ],
      "metadata": {
        "colab": {
          "base_uri": "https://localhost:8080/"
        },
        "id": "HoYsbCrWbp96",
        "outputId": "39add7a8-9a9b-4aa4-fe0f-f4bd32ec4470"
      },
      "execution_count": 164,
      "outputs": [
        {
          "output_type": "execute_result",
          "data": {
            "text/plain": [
              "DecisionTreeClassifier(class_weight=None, criterion='gini', max_depth=None,\n",
              "            max_features=None, max_leaf_nodes=None,\n",
              "            min_impurity_decrease=0.0, min_impurity_split=None,\n",
              "            min_samples_leaf=1, min_samples_split=2,\n",
              "            min_weight_fraction_leaf=0.0, presort=False, random_state=None,\n",
              "            splitter='best')"
            ]
          },
          "metadata": {},
          "execution_count": 164
        }
      ]
    },
    {
      "cell_type": "code",
      "source": [
        "y_pred = dtree.predict(X_test)\n",
        "y_pred"
      ],
      "metadata": {
        "colab": {
          "base_uri": "https://localhost:8080/"
        },
        "id": "NV2VXqFFeM-Y",
        "outputId": "0f25b38b-8d07-4201-fe60-f71e0a0dc6a9"
      },
      "execution_count": 165,
      "outputs": [
        {
          "output_type": "execute_result",
          "data": {
            "text/plain": [
              "array([9, 4, 7, ..., 7, 3, 3])"
            ]
          },
          "metadata": {},
          "execution_count": 165
        }
      ]
    },
    {
      "cell_type": "code",
      "source": [
        "# use confusion matrix to get accuracy\n",
        "from sklearn.metrics import confusion_matrix\n",
        "\n",
        "cmdtree = confusion_matrix(y_test, y_pred) \n",
        "dtree.score(X_test, y_test)"
      ],
      "metadata": {
        "colab": {
          "base_uri": "https://localhost:8080/"
        },
        "id": "QboLyjddcGps",
        "outputId": "ffb51217-9138-495a-eca5-2a5090aab115"
      },
      "execution_count": 166,
      "outputs": [
        {
          "output_type": "execute_result",
          "data": {
            "text/plain": [
              "0.825"
            ]
          },
          "metadata": {},
          "execution_count": 166
        }
      ]
    },
    {
      "cell_type": "markdown",
      "source": [
        "// 82% could be better...now let's re-split and re-fit the data into a baseline decision tree..."
      ],
      "metadata": {
        "id": "eiJKexCZuy4P"
      }
    },
    {
      "cell_type": "code",
      "source": [
        "import os\n",
        "import random as rn \n",
        "\n",
        "# use the following seed for random_states\n",
        "seed = 1234\n",
        "np.random.seed(seed)\n",
        "rn.seed(seed)\n",
        "os.environ['PYTHONHASHSEED'] = str(seed)\n",
        "\n",
        "#create accuracy function to use between labels and predictions (eg validation or testing labels)\n",
        "def acc(y_true : np.ndarray, y_pred : np.ndarray) -> float:\n",
        "  return round(accuracy_score(y_true, y_pred) * 100, 2)"
      ],
      "metadata": {
        "id": "lBgGuCGi1v8i"
      },
      "execution_count": 167,
      "outputs": []
    },
    {
      "cell_type": "code",
      "source": [
        "\n",
        "# resplit training data, this time for training and validation\n",
        "# this time testing set is combined into training set\n",
        "X_train, X_val, y_train, y_val = train_test_split(X, y, test_size = 0.25, random_state = seed)"
      ],
      "metadata": {
        "id": "iyYwg3WrvJaS"
      },
      "execution_count": 168,
      "outputs": []
    },
    {
      "cell_type": "code",
      "source": [
        "# train a baseline decision tree\n",
        "base_dtree = DecisionTreeClassifier(max_depth = 10, random_state = seed)\n",
        "base_dtree.fit(X_train, y_train)"
      ],
      "metadata": {
        "colab": {
          "base_uri": "https://localhost:8080/"
        },
        "id": "N6ADGubF1Eok",
        "outputId": "50abb695-3012-481f-ca7c-3914ba1ae8e1"
      },
      "execution_count": 169,
      "outputs": [
        {
          "output_type": "execute_result",
          "data": {
            "text/plain": [
              "DecisionTreeClassifier(class_weight=None, criterion='gini', max_depth=10,\n",
              "            max_features=None, max_leaf_nodes=None,\n",
              "            min_impurity_decrease=0.0, min_impurity_split=None,\n",
              "            min_samples_leaf=1, min_samples_split=2,\n",
              "            min_weight_fraction_leaf=0.0, presort=False, random_state=1234,\n",
              "            splitter='best')"
            ]
          },
          "metadata": {},
          "execution_count": 169
        }
      ]
    },
    {
      "cell_type": "code",
      "source": [
        "# evaluate the above baseline model\n",
        "\n",
        "train_pred = base_dtree.predict(X_train)\n",
        "valid_pred = base_dtree.predict(X_val)\n",
        "acc_train = acc(train_pred, y_train)\n",
        "acc_valid = acc(valid_pred, y_val)\n",
        "\n",
        "print (f'Training accuracy:  {acc_train}%')\n",
        "print (f'Validation accuracy:  {acc_valid}%')"
      ],
      "metadata": {
        "colab": {
          "base_uri": "https://localhost:8080/"
        },
        "id": "IVMREmCQ2lu_",
        "outputId": "763dff6a-84bf-426b-e65b-47e29636c3d1"
      },
      "execution_count": 170,
      "outputs": [
        {
          "output_type": "stream",
          "name": "stdout",
          "text": [
            "Training accuracy:  92.71%\n",
            "Validation accuracy:  82.58%\n"
          ]
        }
      ]
    },
    {
      "cell_type": "code",
      "source": [
        "train_pred = base_dtree.predict(X_train)\n",
        "train_pred\n"
      ],
      "metadata": {
        "colab": {
          "base_uri": "https://localhost:8080/"
        },
        "id": "glOXYCzPEn9c",
        "outputId": "ece23fb3-84bf-4c59-f1c8-965236499335"
      },
      "execution_count": 171,
      "outputs": [
        {
          "output_type": "execute_result",
          "data": {
            "text/plain": [
              "array([3, 2, 6, ..., 1, 2, 7])"
            ]
          },
          "metadata": {},
          "execution_count": 171
        }
      ]
    },
    {
      "cell_type": "code",
      "source": [
        "# use confusion matrix to get accuracy of baseline tree\n",
        "\n",
        "cm_base_dtree = confusion_matrix(y_train, train_pred) \n",
        "base_dtree.score(X_train, y_train)"
      ],
      "metadata": {
        "colab": {
          "base_uri": "https://localhost:8080/"
        },
        "id": "k4HtjmpkFWqe",
        "outputId": "1c7f9465-7401-461e-926a-246e0b9b10d2"
      },
      "execution_count": 172,
      "outputs": [
        {
          "output_type": "execute_result",
          "data": {
            "text/plain": [
              "0.9271284752316821"
            ]
          },
          "metadata": {},
          "execution_count": 172
        }
      ]
    },
    {
      "cell_type": "markdown",
      "source": [
        "##Method 3: KNN\n",
        "\n",
        "\n",
        "---\n",
        "\n"
      ],
      "metadata": {
        "id": "kNGMpelrUZrO"
      }
    },
    {
      "cell_type": "code",
      "source": [
        "import pandas as pd\n",
        "\n",
        "# once again, read from csv file\n",
        "df = pd.read_csv(r\"/content/sample_data/mnist_train_small.csv\")\n",
        "df.head()"
      ],
      "metadata": {
        "colab": {
          "base_uri": "https://localhost:8080/",
          "height": 299
        },
        "id": "A6HdHbupUeez",
        "outputId": "ac12dde4-6d58-46a0-d2fe-0324ff526f32"
      },
      "execution_count": 197,
      "outputs": [
        {
          "output_type": "execute_result",
          "data": {
            "text/plain": [
              "   6  0  0.1  0.2  0.3  0.4  0.5  0.6  0.7  0.8  ...  0.581  0.582  0.583  \\\n",
              "0  5  0    0    0    0    0    0    0    0    0  ...      0      0      0   \n",
              "1  7  0    0    0    0    0    0    0    0    0  ...      0      0      0   \n",
              "2  9  0    0    0    0    0    0    0    0    0  ...      0      0      0   \n",
              "3  5  0    0    0    0    0    0    0    0    0  ...      0      0      0   \n",
              "4  2  0    0    0    0    0    0    0    0    0  ...      0      0      0   \n",
              "\n",
              "   0.584  0.585  0.586  0.587  0.588  0.589  0.590  \n",
              "0      0      0      0      0      0      0      0  \n",
              "1      0      0      0      0      0      0      0  \n",
              "2      0      0      0      0      0      0      0  \n",
              "3      0      0      0      0      0      0      0  \n",
              "4      0      0      0      0      0      0      0  \n",
              "\n",
              "[5 rows x 785 columns]"
            ],
            "text/html": [
              "\n",
              "  <div id=\"df-0e3f1d10-0940-4ffd-af8a-735ead399f41\">\n",
              "    <div class=\"colab-df-container\">\n",
              "      <div>\n",
              "<style scoped>\n",
              "    .dataframe tbody tr th:only-of-type {\n",
              "        vertical-align: middle;\n",
              "    }\n",
              "\n",
              "    .dataframe tbody tr th {\n",
              "        vertical-align: top;\n",
              "    }\n",
              "\n",
              "    .dataframe thead th {\n",
              "        text-align: right;\n",
              "    }\n",
              "</style>\n",
              "<table border=\"1\" class=\"dataframe\">\n",
              "  <thead>\n",
              "    <tr style=\"text-align: right;\">\n",
              "      <th></th>\n",
              "      <th>6</th>\n",
              "      <th>0</th>\n",
              "      <th>0.1</th>\n",
              "      <th>0.2</th>\n",
              "      <th>0.3</th>\n",
              "      <th>0.4</th>\n",
              "      <th>0.5</th>\n",
              "      <th>0.6</th>\n",
              "      <th>0.7</th>\n",
              "      <th>0.8</th>\n",
              "      <th>...</th>\n",
              "      <th>0.581</th>\n",
              "      <th>0.582</th>\n",
              "      <th>0.583</th>\n",
              "      <th>0.584</th>\n",
              "      <th>0.585</th>\n",
              "      <th>0.586</th>\n",
              "      <th>0.587</th>\n",
              "      <th>0.588</th>\n",
              "      <th>0.589</th>\n",
              "      <th>0.590</th>\n",
              "    </tr>\n",
              "  </thead>\n",
              "  <tbody>\n",
              "    <tr>\n",
              "      <th>0</th>\n",
              "      <td>5</td>\n",
              "      <td>0</td>\n",
              "      <td>0</td>\n",
              "      <td>0</td>\n",
              "      <td>0</td>\n",
              "      <td>0</td>\n",
              "      <td>0</td>\n",
              "      <td>0</td>\n",
              "      <td>0</td>\n",
              "      <td>0</td>\n",
              "      <td>...</td>\n",
              "      <td>0</td>\n",
              "      <td>0</td>\n",
              "      <td>0</td>\n",
              "      <td>0</td>\n",
              "      <td>0</td>\n",
              "      <td>0</td>\n",
              "      <td>0</td>\n",
              "      <td>0</td>\n",
              "      <td>0</td>\n",
              "      <td>0</td>\n",
              "    </tr>\n",
              "    <tr>\n",
              "      <th>1</th>\n",
              "      <td>7</td>\n",
              "      <td>0</td>\n",
              "      <td>0</td>\n",
              "      <td>0</td>\n",
              "      <td>0</td>\n",
              "      <td>0</td>\n",
              "      <td>0</td>\n",
              "      <td>0</td>\n",
              "      <td>0</td>\n",
              "      <td>0</td>\n",
              "      <td>...</td>\n",
              "      <td>0</td>\n",
              "      <td>0</td>\n",
              "      <td>0</td>\n",
              "      <td>0</td>\n",
              "      <td>0</td>\n",
              "      <td>0</td>\n",
              "      <td>0</td>\n",
              "      <td>0</td>\n",
              "      <td>0</td>\n",
              "      <td>0</td>\n",
              "    </tr>\n",
              "    <tr>\n",
              "      <th>2</th>\n",
              "      <td>9</td>\n",
              "      <td>0</td>\n",
              "      <td>0</td>\n",
              "      <td>0</td>\n",
              "      <td>0</td>\n",
              "      <td>0</td>\n",
              "      <td>0</td>\n",
              "      <td>0</td>\n",
              "      <td>0</td>\n",
              "      <td>0</td>\n",
              "      <td>...</td>\n",
              "      <td>0</td>\n",
              "      <td>0</td>\n",
              "      <td>0</td>\n",
              "      <td>0</td>\n",
              "      <td>0</td>\n",
              "      <td>0</td>\n",
              "      <td>0</td>\n",
              "      <td>0</td>\n",
              "      <td>0</td>\n",
              "      <td>0</td>\n",
              "    </tr>\n",
              "    <tr>\n",
              "      <th>3</th>\n",
              "      <td>5</td>\n",
              "      <td>0</td>\n",
              "      <td>0</td>\n",
              "      <td>0</td>\n",
              "      <td>0</td>\n",
              "      <td>0</td>\n",
              "      <td>0</td>\n",
              "      <td>0</td>\n",
              "      <td>0</td>\n",
              "      <td>0</td>\n",
              "      <td>...</td>\n",
              "      <td>0</td>\n",
              "      <td>0</td>\n",
              "      <td>0</td>\n",
              "      <td>0</td>\n",
              "      <td>0</td>\n",
              "      <td>0</td>\n",
              "      <td>0</td>\n",
              "      <td>0</td>\n",
              "      <td>0</td>\n",
              "      <td>0</td>\n",
              "    </tr>\n",
              "    <tr>\n",
              "      <th>4</th>\n",
              "      <td>2</td>\n",
              "      <td>0</td>\n",
              "      <td>0</td>\n",
              "      <td>0</td>\n",
              "      <td>0</td>\n",
              "      <td>0</td>\n",
              "      <td>0</td>\n",
              "      <td>0</td>\n",
              "      <td>0</td>\n",
              "      <td>0</td>\n",
              "      <td>...</td>\n",
              "      <td>0</td>\n",
              "      <td>0</td>\n",
              "      <td>0</td>\n",
              "      <td>0</td>\n",
              "      <td>0</td>\n",
              "      <td>0</td>\n",
              "      <td>0</td>\n",
              "      <td>0</td>\n",
              "      <td>0</td>\n",
              "      <td>0</td>\n",
              "    </tr>\n",
              "  </tbody>\n",
              "</table>\n",
              "<p>5 rows × 785 columns</p>\n",
              "</div>\n",
              "      <button class=\"colab-df-convert\" onclick=\"convertToInteractive('df-0e3f1d10-0940-4ffd-af8a-735ead399f41')\"\n",
              "              title=\"Convert this dataframe to an interactive table.\"\n",
              "              style=\"display:none;\">\n",
              "        \n",
              "  <svg xmlns=\"http://www.w3.org/2000/svg\" height=\"24px\"viewBox=\"0 0 24 24\"\n",
              "       width=\"24px\">\n",
              "    <path d=\"M0 0h24v24H0V0z\" fill=\"none\"/>\n",
              "    <path d=\"M18.56 5.44l.94 2.06.94-2.06 2.06-.94-2.06-.94-.94-2.06-.94 2.06-2.06.94zm-11 1L8.5 8.5l.94-2.06 2.06-.94-2.06-.94L8.5 2.5l-.94 2.06-2.06.94zm10 10l.94 2.06.94-2.06 2.06-.94-2.06-.94-.94-2.06-.94 2.06-2.06.94z\"/><path d=\"M17.41 7.96l-1.37-1.37c-.4-.4-.92-.59-1.43-.59-.52 0-1.04.2-1.43.59L10.3 9.45l-7.72 7.72c-.78.78-.78 2.05 0 2.83L4 21.41c.39.39.9.59 1.41.59.51 0 1.02-.2 1.41-.59l7.78-7.78 2.81-2.81c.8-.78.8-2.07 0-2.86zM5.41 20L4 18.59l7.72-7.72 1.47 1.35L5.41 20z\"/>\n",
              "  </svg>\n",
              "      </button>\n",
              "      \n",
              "  <style>\n",
              "    .colab-df-container {\n",
              "      display:flex;\n",
              "      flex-wrap:wrap;\n",
              "      gap: 12px;\n",
              "    }\n",
              "\n",
              "    .colab-df-convert {\n",
              "      background-color: #E8F0FE;\n",
              "      border: none;\n",
              "      border-radius: 50%;\n",
              "      cursor: pointer;\n",
              "      display: none;\n",
              "      fill: #1967D2;\n",
              "      height: 32px;\n",
              "      padding: 0 0 0 0;\n",
              "      width: 32px;\n",
              "    }\n",
              "\n",
              "    .colab-df-convert:hover {\n",
              "      background-color: #E2EBFA;\n",
              "      box-shadow: 0px 1px 2px rgba(60, 64, 67, 0.3), 0px 1px 3px 1px rgba(60, 64, 67, 0.15);\n",
              "      fill: #174EA6;\n",
              "    }\n",
              "\n",
              "    [theme=dark] .colab-df-convert {\n",
              "      background-color: #3B4455;\n",
              "      fill: #D2E3FC;\n",
              "    }\n",
              "\n",
              "    [theme=dark] .colab-df-convert:hover {\n",
              "      background-color: #434B5C;\n",
              "      box-shadow: 0px 1px 3px 1px rgba(0, 0, 0, 0.15);\n",
              "      filter: drop-shadow(0px 1px 2px rgba(0, 0, 0, 0.3));\n",
              "      fill: #FFFFFF;\n",
              "    }\n",
              "  </style>\n",
              "\n",
              "      <script>\n",
              "        const buttonEl =\n",
              "          document.querySelector('#df-0e3f1d10-0940-4ffd-af8a-735ead399f41 button.colab-df-convert');\n",
              "        buttonEl.style.display =\n",
              "          google.colab.kernel.accessAllowed ? 'block' : 'none';\n",
              "\n",
              "        async function convertToInteractive(key) {\n",
              "          const element = document.querySelector('#df-0e3f1d10-0940-4ffd-af8a-735ead399f41');\n",
              "          const dataTable =\n",
              "            await google.colab.kernel.invokeFunction('convertToInteractive',\n",
              "                                                     [key], {});\n",
              "          if (!dataTable) return;\n",
              "\n",
              "          const docLinkHtml = 'Like what you see? Visit the ' +\n",
              "            '<a target=\"_blank\" href=https://colab.research.google.com/notebooks/data_table.ipynb>data table notebook</a>'\n",
              "            + ' to learn more about interactive tables.';\n",
              "          element.innerHTML = '';\n",
              "          dataTable['output_type'] = 'display_data';\n",
              "          await google.colab.output.renderOutput(dataTable, element);\n",
              "          const docLink = document.createElement('div');\n",
              "          docLink.innerHTML = docLinkHtml;\n",
              "          element.appendChild(docLink);\n",
              "        }\n",
              "      </script>\n",
              "    </div>\n",
              "  </div>\n",
              "  "
            ]
          },
          "metadata": {},
          "execution_count": 197
        }
      ]
    },
    {
      "cell_type": "code",
      "source": [
        "# assign location on to x and y \n",
        "x = df.iloc[:,1:]\n",
        "y = df.iloc[:,0]\n",
        "\n",
        "# split into train and test data sets, test size is 20% and random state is 7\n",
        "x_train, x_test, y_train, y_test = train_test_split(x, y, test_size = 0.2, random_state = 7)"
      ],
      "metadata": {
        "id": "3JJlTjBIYjVW"
      },
      "execution_count": 199,
      "outputs": []
    },
    {
      "cell_type": "code",
      "source": [
        "# import KNN classifier and call main function. fit dataframe into KNN\n",
        "from sklearn.neighbors import KNeighborsClassifier\n",
        "\n",
        "knn = KNeighborsClassifier()\n",
        "knn.fit(x_train, y_train)\n"
      ],
      "metadata": {
        "colab": {
          "base_uri": "https://localhost:8080/"
        },
        "id": "pT_2XuWSYWPB",
        "outputId": "05b96a33-b612-4a65-d913-b745db325c24"
      },
      "execution_count": 201,
      "outputs": [
        {
          "output_type": "execute_result",
          "data": {
            "text/plain": [
              "KNeighborsClassifier(algorithm='auto', leaf_size=30, metric='minkowski',\n",
              "           metric_params=None, n_jobs=None, n_neighbors=5, p=2,\n",
              "           weights='uniform')"
            ]
          },
          "metadata": {},
          "execution_count": 201
        }
      ]
    },
    {
      "cell_type": "code",
      "source": [
        "y_pred = knn.predict(x_test)"
      ],
      "metadata": {
        "id": "ukyrUQDCYYkN"
      },
      "execution_count": 202,
      "outputs": []
    },
    {
      "cell_type": "code",
      "source": [
        "# now lets call accuracy score\n",
        "accuracy_score(y_pred, y_test)"
      ],
      "metadata": {
        "colab": {
          "base_uri": "https://localhost:8080/"
        },
        "id": "EFmbB5C9aCRQ",
        "outputId": "7f9c023b-a577-4abe-e217-c88632a0212b"
      },
      "execution_count": 203,
      "outputs": [
        {
          "output_type": "execute_result",
          "data": {
            "text/plain": [
              "0.959"
            ]
          },
          "metadata": {},
          "execution_count": 203
        }
      ]
    },
    {
      "cell_type": "markdown",
      "source": [
        "\n",
        "\n",
        "---\n",
        "\n",
        "\n",
        "*   Log all the model development and measure the performance of each algorithm used in a table.\n",
        "*   Finally, make a conclusion about the performance of each model."
      ],
      "metadata": {
        "id": "y3M70oPCeR3M"
      }
    },
    {
      "cell_type": "code",
      "source": [
        "from tabulate import tabulate\n",
        "\n",
        "data = [['Simple Neural \\nNetwork', 96.0, 'reshape dataset using\\nConvolutional Network, \\nmax epoch = 10', 98],\n",
        "        ['Decision Tree', 82, 're-split data and tune a \\nbaseline model, random state = seed', 92],\n",
        "        ['KNN', 95.0, 'a', 0.0]]\n",
        "\n",
        "col_names = [\"Model used\", \"accuracy %\", \"hyperparams/algorithms added\", \"new accuracy %\"]\n",
        "\n",
        "print(tabulate(data, headers=col_names, tablefmt=\"grid\", showindex=\"never\"))"
      ],
      "metadata": {
        "colab": {
          "base_uri": "https://localhost:8080/"
        },
        "id": "XttEv1beokgY",
        "outputId": "d22f8c27-8176-4e67-fdea-bf1ac53daf90"
      },
      "execution_count": 206,
      "outputs": [
        {
          "output_type": "stream",
          "name": "stdout",
          "text": [
            "+----------------+--------------+-------------------------------------+------------------+\n",
            "| Model used     |   accuracy % | hyperparams/algorithms added        |   new accuracy % |\n",
            "+================+==============+=====================================+==================+\n",
            "| Simple Neural  |           96 | reshape dataset using               |               98 |\n",
            "| Network        |              | Convolutional Network,              |                  |\n",
            "|                |              | max epoch = 10                      |                  |\n",
            "+----------------+--------------+-------------------------------------+------------------+\n",
            "| Decision Tree  |           82 | re-split data and tune a            |               92 |\n",
            "|                |              | baseline model, random state = seed |                  |\n",
            "+----------------+--------------+-------------------------------------+------------------+\n",
            "| KNN            |           95 | a                                   |                0 |\n",
            "+----------------+--------------+-------------------------------------+------------------+\n"
          ]
        }
      ]
    },
    {
      "cell_type": "markdown",
      "source": [
        "##Conclusion\n",
        "As this was the first time for me practicing all these models and using the MNIST dataset, I kept the focus as simple as I could. The metric I focused on was looking at the accuracy score twice for each model; the first time a model was built and then the second time was after new features were implemented or when the current hyperparams were changed.\n",
        "\n",
        "The best performer was the simple neural network with a resulting 98% accuracy at prediction. It was by far the most complex and also had a very long runtime during some parts of the process. The original dataframe was reshaped using CNN and the epoch was reduced in half to 10 which resulted in a 2% increase in its accuracy score.\n",
        "\n",
        "The model that had the biggest jump in accuracy (+10%) was the Decision Tree which had a score of 82% to begin with and after some hyperparam tuning there was a significant increase to 92%. A random seed function was used for random_state, an accuracy function and validation instances were added to the dataframe which I'm sure affected the final accuracy score."
      ],
      "metadata": {
        "id": "SmpkK6AVqYRw"
      }
    },
    {
      "cell_type": "markdown",
      "source": [
        "Resources used:\n",
        "\n",
        "MNIST explained\n",
        "https://www.youtube.com/watch?v=5gLarqG8p4s&list=RDCMUCJINtWke3-FMz2WuEltWDVQ&start_radio=1&rv=5gLarqG8p4s&t=1104&ab_channel=AppliedAICourse\n",
        "\n",
        "Visualising MNIST\n",
        "https://colah.github.io/posts/2014-10-Visualizing-MNIST/\n",
        "\n",
        "Neural Network & CNN\n",
        "https://colab.research.google.com/github/skorch-dev/skorch/blob/master/notebooks/MNIST.ipynb#scrollTo=PcnTjzhaUWsd\n",
        "\n",
        "Deep Neural Networks\n",
        "https://www.youtube.com/watch?v=x89-G6gz3jg&ab_channel=RANJIRAJ\n",
        "\n",
        "3 models using MNIST\n",
        "https://medium.com/analytics-vidhya/knn-vs-decision-tree-vs-random-forest-for-handwritten-digit-recognition-470e864c75bc\n",
        "\n",
        "\n",
        "decision tree using t-SNE\n",
        "https://www.kaggle.com/code/carlolepelaars/97-on-mnist-with-a-single-decision-tree-t-sne/notebook\n",
        "\n",
        "t-SNE visualisation of MNIST data\n",
        "https://www.kaggle.com/code/apapiu/t-sne/notebook"
      ],
      "metadata": {
        "id": "XLsyAPjpmshg"
      }
    }
  ]
}